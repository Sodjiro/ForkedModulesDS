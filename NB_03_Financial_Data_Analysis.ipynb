{
  "cells": [
    {
      "cell_type": "markdown",
      "metadata": {
        "id": "view-in-github",
        "colab_type": "text"
      },
      "source": [
        "<a href=\"https://colab.research.google.com/github/Sodjiro/ForkedModulesDS/blob/master/NB_03_Financial_Data_Analysis.ipynb\" target=\"_parent\"><img src=\"https://colab.research.google.com/assets/colab-badge.svg\" alt=\"Open In Colab\"/></a>"
      ]
    },
    {
      "cell_type": "markdown",
      "id": "e7173fb2",
      "metadata": {
        "id": "e7173fb2"
      },
      "source": [
        "# Financial Data Analysis with Python - a Deep Dive"
      ]
    },
    {
      "cell_type": "markdown",
      "id": "c5b14d02",
      "metadata": {
        "id": "c5b14d02"
      },
      "source": [
        "## Installing required Libraries/Packages"
      ]
    },
    {
      "cell_type": "markdown",
      "id": "4f398622",
      "metadata": {
        "id": "4f398622"
      },
      "source": [
        "Install yfinance with:\n",
        "- pip install yfinance "
      ]
    },
    {
      "cell_type": "markdown",
      "id": "cd04482d",
      "metadata": {
        "id": "cd04482d"
      },
      "source": [
        "(first: conda update anaconda) "
      ]
    },
    {
      "cell_type": "code",
      "execution_count": 1,
      "id": "02595e23",
      "metadata": {
        "id": "02595e23",
        "outputId": "23b12de8-e46d-42d2-9521-fedd840c7851",
        "colab": {
          "base_uri": "https://localhost:8080/"
        }
      },
      "outputs": [
        {
          "output_type": "stream",
          "name": "stdout",
          "text": [
            "Looking in indexes: https://pypi.org/simple, https://us-python.pkg.dev/colab-wheels/public/simple/\n",
            "Collecting yfinance\n",
            "  Downloading yfinance-0.1.72-py2.py3-none-any.whl (27 kB)\n",
            "Requirement already satisfied: multitasking>=0.0.7 in /usr/local/lib/python3.7/dist-packages (from yfinance) (0.0.10)\n",
            "Requirement already satisfied: pandas>=0.24.0 in /usr/local/lib/python3.7/dist-packages (from yfinance) (1.3.5)\n",
            "Requirement already satisfied: numpy>=1.15 in /usr/local/lib/python3.7/dist-packages (from yfinance) (1.21.6)\n",
            "Collecting lxml>=4.5.1\n",
            "  Downloading lxml-4.9.0-cp37-cp37m-manylinux_2_17_x86_64.manylinux2014_x86_64.manylinux_2_24_x86_64.whl (6.4 MB)\n",
            "\u001b[K     |████████████████████████████████| 6.4 MB 7.4 MB/s \n",
            "\u001b[?25hCollecting requests>=2.26\n",
            "  Downloading requests-2.28.0-py3-none-any.whl (62 kB)\n",
            "\u001b[K     |████████████████████████████████| 62 kB 1.2 MB/s \n",
            "\u001b[?25hRequirement already satisfied: python-dateutil>=2.7.3 in /usr/local/lib/python3.7/dist-packages (from pandas>=0.24.0->yfinance) (2.8.2)\n",
            "Requirement already satisfied: pytz>=2017.3 in /usr/local/lib/python3.7/dist-packages (from pandas>=0.24.0->yfinance) (2022.1)\n",
            "Requirement already satisfied: six>=1.5 in /usr/local/lib/python3.7/dist-packages (from python-dateutil>=2.7.3->pandas>=0.24.0->yfinance) (1.15.0)\n",
            "Requirement already satisfied: urllib3<1.27,>=1.21.1 in /usr/local/lib/python3.7/dist-packages (from requests>=2.26->yfinance) (1.24.3)\n",
            "Requirement already satisfied: idna<4,>=2.5 in /usr/local/lib/python3.7/dist-packages (from requests>=2.26->yfinance) (2.10)\n",
            "Requirement already satisfied: charset-normalizer~=2.0.0 in /usr/local/lib/python3.7/dist-packages (from requests>=2.26->yfinance) (2.0.12)\n",
            "Requirement already satisfied: certifi>=2017.4.17 in /usr/local/lib/python3.7/dist-packages (from requests>=2.26->yfinance) (2022.6.15)\n",
            "Installing collected packages: requests, lxml, yfinance\n",
            "  Attempting uninstall: requests\n",
            "    Found existing installation: requests 2.23.0\n",
            "    Uninstalling requests-2.23.0:\n",
            "      Successfully uninstalled requests-2.23.0\n",
            "  Attempting uninstall: lxml\n",
            "    Found existing installation: lxml 4.2.6\n",
            "    Uninstalling lxml-4.2.6:\n",
            "      Successfully uninstalled lxml-4.2.6\n",
            "\u001b[31mERROR: pip's dependency resolver does not currently take into account all the packages that are installed. This behaviour is the source of the following dependency conflicts.\n",
            "google-colab 1.0.0 requires requests~=2.23.0, but you have requests 2.28.0 which is incompatible.\n",
            "datascience 0.10.6 requires folium==0.2.1, but you have folium 0.8.3 which is incompatible.\u001b[0m\n",
            "Successfully installed lxml-4.9.0 requests-2.28.0 yfinance-0.1.72\n"
          ]
        }
      ],
      "source": [
        "pip install yfinance"
      ]
    },
    {
      "cell_type": "markdown",
      "id": "628d01a0",
      "metadata": {
        "id": "628d01a0"
      },
      "source": [
        "## Loading Financial Data from the Web"
      ]
    },
    {
      "cell_type": "code",
      "execution_count": null,
      "id": "ed0670ee",
      "metadata": {
        "id": "ed0670ee"
      },
      "outputs": [],
      "source": [
        "import pandas as pd\n",
        "import yfinance as yf"
      ]
    },
    {
      "cell_type": "code",
      "execution_count": null,
      "id": "edf2b55c",
      "metadata": {
        "id": "edf2b55c"
      },
      "outputs": [],
      "source": [
        "start = \"2014-10-01\"\n",
        "end = \"2021-05-31\""
      ]
    },
    {
      "cell_type": "code",
      "execution_count": null,
      "id": "3c81ccf8",
      "metadata": {
        "id": "3c81ccf8"
      },
      "outputs": [],
      "source": [
        "symbol = \"BA\""
      ]
    },
    {
      "cell_type": "code",
      "execution_count": null,
      "id": "38e6d1ac",
      "metadata": {
        "id": "38e6d1ac"
      },
      "outputs": [],
      "source": [
        "df = yf.download(symbol, start, end)\n",
        "df"
      ]
    },
    {
      "cell_type": "code",
      "execution_count": null,
      "id": "77389d28",
      "metadata": {
        "id": "77389d28"
      },
      "outputs": [],
      "source": [
        "df.info()"
      ]
    },
    {
      "cell_type": "code",
      "execution_count": null,
      "id": "7e6676d6",
      "metadata": {
        "id": "7e6676d6"
      },
      "outputs": [],
      "source": [
        "symbol = [\"BA\", \"MSFT\", \"^DJI\", \"EURUSD=X\", \"GC=F\", \"BTC-USD\"]"
      ]
    },
    {
      "cell_type": "markdown",
      "id": "056f571b",
      "metadata": {
        "id": "056f571b"
      },
      "source": [
        "Ticker Symbols: <br>\n",
        "- __BA__: Boeing (US Stock) \n",
        "- __MSFT__: Microsoft Corp (US Stock)\n",
        "- __^DJI__: Dow Jones Industrial Average (US Stock Index)\n",
        "- __EURUSD=X__: Exchange Rate for Currency Pair EUR/USD (Forex)\n",
        "- __GC=F__: Gold Price (Precious Metal / Commodity)\n",
        "- __BTC-USD__: Bitcoin in USD (Cryptocurrency)"
      ]
    },
    {
      "cell_type": "code",
      "execution_count": null,
      "id": "a5fb408b",
      "metadata": {
        "id": "a5fb408b"
      },
      "outputs": [],
      "source": [
        "df = yf.download(symbol, start, end)\n",
        "df"
      ]
    },
    {
      "cell_type": "code",
      "execution_count": null,
      "id": "0ffab170",
      "metadata": {
        "id": "0ffab170"
      },
      "outputs": [],
      "source": [
        "df.info()"
      ]
    },
    {
      "cell_type": "code",
      "execution_count": null,
      "id": "228c6cd0",
      "metadata": {
        "id": "228c6cd0"
      },
      "outputs": [],
      "source": [
        "df.to_csv(\"multi_assets.csv\")"
      ]
    },
    {
      "cell_type": "code",
      "execution_count": null,
      "id": "9adf39f7",
      "metadata": {
        "id": "9adf39f7"
      },
      "outputs": [],
      "source": [
        ""
      ]
    },
    {
      "cell_type": "markdown",
      "id": "8fb998d5",
      "metadata": {
        "id": "8fb998d5"
      },
      "source": [
        "## Initial Inspection and Visualization"
      ]
    },
    {
      "cell_type": "code",
      "execution_count": null,
      "id": "ca851ade",
      "metadata": {
        "id": "ca851ade"
      },
      "outputs": [],
      "source": [
        "import pandas as pd\n",
        "import matplotlib.pyplot as plt\n",
        "pd.options.display.float_format = '{:.4f}'.format\n",
        "plt.style.use(\"seaborn\")"
      ]
    },
    {
      "cell_type": "code",
      "execution_count": null,
      "id": "2ff5d5de",
      "metadata": {
        "id": "2ff5d5de"
      },
      "outputs": [],
      "source": [
        "df = pd.read_csv(\"multi_assets.csv\", header = [0, 1], index_col = 0, parse_dates = [0])\n",
        "df"
      ]
    },
    {
      "cell_type": "code",
      "execution_count": null,
      "id": "4154b3dc",
      "metadata": {
        "id": "4154b3dc"
      },
      "outputs": [],
      "source": [
        "df.info()"
      ]
    },
    {
      "cell_type": "code",
      "execution_count": null,
      "id": "4356cfce",
      "metadata": {
        "id": "4356cfce"
      },
      "outputs": [],
      "source": [
        "df.Close # outer index level"
      ]
    },
    {
      "cell_type": "code",
      "execution_count": null,
      "id": "4fc92bac",
      "metadata": {
        "id": "4fc92bac"
      },
      "outputs": [],
      "source": [
        "df.Close.BA # one column (1)"
      ]
    },
    {
      "cell_type": "code",
      "execution_count": null,
      "id": "99ac35fc",
      "metadata": {
        "id": "99ac35fc"
      },
      "outputs": [],
      "source": [
        "df.loc[:, (\"Close\", \"BA\")] # one column (2)"
      ]
    },
    {
      "cell_type": "code",
      "execution_count": null,
      "id": "48ad552c",
      "metadata": {
        "id": "48ad552c"
      },
      "outputs": [],
      "source": [
        "df.loc[\"2015-01-07\"] # one row"
      ]
    },
    {
      "cell_type": "code",
      "execution_count": null,
      "id": "f95123ef",
      "metadata": {
        "id": "f95123ef"
      },
      "outputs": [],
      "source": [
        "df.loc[\"2015\"] # one year"
      ]
    },
    {
      "cell_type": "code",
      "execution_count": null,
      "id": "0f35c1a5",
      "metadata": {
        "id": "0f35c1a5"
      },
      "outputs": [],
      "source": [
        "df.loc[\"2020-06\":, (\"Close\", \"BA\")] # one month for one column"
      ]
    },
    {
      "cell_type": "code",
      "execution_count": null,
      "id": "4acb199c",
      "metadata": {
        "id": "4acb199c"
      },
      "outputs": [],
      "source": [
        "df = df.swaplevel(axis = \"columns\").sort_index(axis = \"columns\") # swap outer and inner index\n",
        "df"
      ]
    },
    {
      "cell_type": "code",
      "execution_count": null,
      "id": "3518e04c",
      "metadata": {
        "id": "3518e04c"
      },
      "outputs": [],
      "source": [
        "df[\"EURUSD=X\"]"
      ]
    },
    {
      "cell_type": "code",
      "execution_count": null,
      "id": "efd617d8",
      "metadata": {
        "id": "efd617d8"
      },
      "outputs": [],
      "source": [
        "df[\"BTC-USD\"]"
      ]
    },
    {
      "cell_type": "code",
      "execution_count": null,
      "id": "6fa7c360",
      "metadata": {
        "id": "6fa7c360"
      },
      "outputs": [],
      "source": [
        "df = df.swaplevel(axis = \"columns\").sort_index(axis = \"columns\") # swap outer and inner index\n",
        "df"
      ]
    },
    {
      "cell_type": "code",
      "execution_count": null,
      "id": "669bfd2a",
      "metadata": {
        "id": "669bfd2a"
      },
      "outputs": [],
      "source": [
        "close = df.Close.copy() # select daily close prices only\n",
        "close"
      ]
    },
    {
      "cell_type": "code",
      "execution_count": null,
      "id": "0c72b340",
      "metadata": {
        "id": "0c72b340"
      },
      "outputs": [],
      "source": [
        "close.describe()"
      ]
    },
    {
      "cell_type": "code",
      "execution_count": null,
      "id": "410bb7bd",
      "metadata": {
        "id": "410bb7bd"
      },
      "outputs": [],
      "source": [
        "close.BA.dropna().plot(figsize = (15, 8), fontsize = 13)\n",
        "plt.legend(fontsize = 13)\n",
        "plt.show()"
      ]
    },
    {
      "cell_type": "code",
      "execution_count": null,
      "id": "c11adb44",
      "metadata": {
        "id": "c11adb44"
      },
      "outputs": [],
      "source": [
        "close.dropna().plot(figsize = (15, 8), fontsize = 13)\n",
        "plt.legend(fontsize = 13)\n",
        "plt.show()"
      ]
    },
    {
      "cell_type": "markdown",
      "id": "5b78b039",
      "metadata": {
        "id": "5b78b039"
      },
      "source": [
        "__Take Home: Absolute Prices are absolutely meaningless/useless (in most cases)__ <br>\n",
        "- Prices that are on a different scale are hard to compare \n",
        "- A higher Price does not imply a higher value or a better performance"
      ]
    },
    {
      "cell_type": "code",
      "execution_count": null,
      "id": "532d5c7d",
      "metadata": {
        "id": "532d5c7d"
      },
      "outputs": [],
      "source": [
        ""
      ]
    },
    {
      "cell_type": "markdown",
      "id": "433adcfd",
      "metadata": {
        "id": "433adcfd"
      },
      "source": [
        "## Normalizing Financial Time Series to a Base Value (100)"
      ]
    },
    {
      "cell_type": "markdown",
      "id": "f3d37dc3",
      "metadata": {
        "id": "f3d37dc3"
      },
      "source": [
        "__-> all instruments start at the very same Level (Base Value)__"
      ]
    },
    {
      "cell_type": "code",
      "execution_count": null,
      "id": "edafd894",
      "metadata": {
        "id": "edafd894"
      },
      "outputs": [],
      "source": [
        "close"
      ]
    },
    {
      "cell_type": "code",
      "execution_count": null,
      "id": "537c5165",
      "metadata": {
        "id": "537c5165"
      },
      "outputs": [],
      "source": [
        "close.iloc[0,0] # first price BA"
      ]
    },
    {
      "cell_type": "code",
      "execution_count": null,
      "id": "02fa70d9",
      "metadata": {
        "scrolled": true,
        "id": "02fa70d9"
      },
      "outputs": [],
      "source": [
        "close.BA.div(close.iloc[0,0]).mul(100)"
      ]
    },
    {
      "cell_type": "code",
      "execution_count": null,
      "id": "22b0f5d9",
      "metadata": {
        "scrolled": true,
        "id": "22b0f5d9"
      },
      "outputs": [],
      "source": [
        "close.iloc[0] # first Price all tickers"
      ]
    },
    {
      "cell_type": "code",
      "execution_count": null,
      "id": "b7a3f3cf",
      "metadata": {
        "id": "b7a3f3cf"
      },
      "outputs": [],
      "source": [
        "norm = close.div(close.iloc[0]).mul(100)\n",
        "norm"
      ]
    },
    {
      "cell_type": "code",
      "execution_count": null,
      "id": "89ab020c",
      "metadata": {
        "id": "89ab020c"
      },
      "outputs": [],
      "source": [
        "norm.dropna().plot(figsize = (15, 8), fontsize = 13, logy = True)\n",
        "plt.legend(fontsize = 13)\n",
        "plt.show()"
      ]
    },
    {
      "cell_type": "markdown",
      "id": "9953498b",
      "metadata": {
        "id": "9953498b"
      },
      "source": [
        "__Take Home: Normalized Prices help to compare Financial Instruments...<br>\n",
        "...but they are limited when it comes to measuring/comparing Performance in more detail.__"
      ]
    },
    {
      "cell_type": "code",
      "execution_count": null,
      "id": "a7cdc3f4",
      "metadata": {
        "id": "a7cdc3f4"
      },
      "outputs": [],
      "source": [
        "close.to_csv(\"close.csv\")"
      ]
    },
    {
      "cell_type": "code",
      "execution_count": null,
      "id": "b69ae6c0",
      "metadata": {
        "id": "b69ae6c0"
      },
      "outputs": [],
      "source": [
        ""
      ]
    },
    {
      "cell_type": "markdown",
      "id": "f8c9a562",
      "metadata": {
        "id": "f8c9a562"
      },
      "source": [
        "---------------------------------------------"
      ]
    },
    {
      "cell_type": "markdown",
      "id": "84a9cdf4",
      "metadata": {
        "id": "84a9cdf4"
      },
      "source": [
        "__Coding Challenge #1__"
      ]
    },
    {
      "cell_type": "markdown",
      "id": "e46d6426",
      "metadata": {
        "id": "e46d6426"
      },
      "source": [
        "1. Load Stock Price Data for General Electric (GE) and another ticker symbol of your choice from 2015-01-02 until 2020-12-31.<br>\n",
        "Go to https://finance.yahoo.com/ and get the right ticker symbol. For instruments traded outside the US, you have to add a country/exchange suffix. <br>\n",
        "Check the suffix list here https://help.yahoo.com/kb/exchanges-data-providers-yahoo-finance-sln2310.html As an example, the suffix for the National Indian Stock Exchange is .NS -> Ticker Symbol for Reliance is Reliance.NS"
      ]
    },
    {
      "cell_type": "markdown",
      "id": "b6ff1425",
      "metadata": {
        "id": "b6ff1425"
      },
      "source": [
        "2. Select Close prices only and create a price chart for GE."
      ]
    },
    {
      "cell_type": "markdown",
      "id": "34f50372",
      "metadata": {
        "id": "34f50372"
      },
      "source": [
        "3. Normalize the stock prices for GE and the Ticker Symbol of your choice (Base Value: 1) and visualize! What´s the final normalized price for GE on 2020-12-30? "
      ]
    },
    {
      "cell_type": "markdown",
      "id": "359e6edd",
      "metadata": {
        "id": "359e6edd"
      },
      "source": [
        "_You can find the solution for the Coding Challenges at the end of this notebook_."
      ]
    },
    {
      "cell_type": "markdown",
      "id": "15712b3e",
      "metadata": {
        "id": "15712b3e"
      },
      "source": [
        "-----------------------------------------------------"
      ]
    },
    {
      "cell_type": "code",
      "execution_count": null,
      "id": "a6e46e0b",
      "metadata": {
        "id": "a6e46e0b"
      },
      "outputs": [],
      "source": [
        ""
      ]
    },
    {
      "cell_type": "markdown",
      "id": "36bbf662",
      "metadata": {
        "id": "36bbf662"
      },
      "source": [
        "## Price Changes and Financial Returns"
      ]
    },
    {
      "cell_type": "markdown",
      "id": "75be1d29",
      "metadata": {
        "id": "75be1d29"
      },
      "source": [
        "__More meaningful/useful than Prices: Price changes__"
      ]
    },
    {
      "cell_type": "code",
      "execution_count": null,
      "id": "c2fa1dbc",
      "metadata": {
        "id": "c2fa1dbc"
      },
      "outputs": [],
      "source": [
        "import pandas as pd\n",
        "import matplotlib.pyplot as plt\n",
        "pd.options.display.float_format = '{:.4f}'.format\n",
        "plt.style.use(\"seaborn\")"
      ]
    },
    {
      "cell_type": "code",
      "execution_count": null,
      "id": "9d3224ef",
      "metadata": {
        "id": "9d3224ef"
      },
      "outputs": [],
      "source": [
        "close = pd.read_csv(\"close.csv\", index_col = \"Date\", parse_dates = [\"Date\"])\n",
        "close"
      ]
    },
    {
      "cell_type": "code",
      "execution_count": null,
      "id": "88a0cab0",
      "metadata": {
        "id": "88a0cab0"
      },
      "outputs": [],
      "source": [
        "msft = close.MSFT.dropna().to_frame().copy()"
      ]
    },
    {
      "cell_type": "code",
      "execution_count": null,
      "id": "21a0d0ee",
      "metadata": {
        "id": "21a0d0ee"
      },
      "outputs": [],
      "source": [
        "msft"
      ]
    },
    {
      "cell_type": "code",
      "execution_count": null,
      "id": "7a445860",
      "metadata": {
        "id": "7a445860"
      },
      "outputs": [],
      "source": [
        "msft.rename(columns = {\"MSFT\":\"Price\"}, inplace = True)"
      ]
    },
    {
      "cell_type": "code",
      "execution_count": null,
      "id": "1616df16",
      "metadata": {
        "id": "1616df16"
      },
      "outputs": [],
      "source": [
        "msft"
      ]
    },
    {
      "cell_type": "code",
      "execution_count": null,
      "id": "4ac2d1d6",
      "metadata": {
        "id": "4ac2d1d6"
      },
      "outputs": [],
      "source": [
        "msft.shift(periods = 1)"
      ]
    },
    {
      "cell_type": "code",
      "execution_count": null,
      "id": "872fc895",
      "metadata": {
        "id": "872fc895"
      },
      "outputs": [],
      "source": [
        "msft[\"P_lag1\"] = msft.shift(periods = 1)\n",
        "msft"
      ]
    },
    {
      "cell_type": "markdown",
      "id": "27b4686f",
      "metadata": {
        "id": "27b4686f"
      },
      "source": [
        "__Absolute Price Changes__ (Difference)"
      ]
    },
    {
      "cell_type": "code",
      "execution_count": null,
      "id": "1e526b73",
      "metadata": {
        "id": "1e526b73"
      },
      "outputs": [],
      "source": [
        "msft[\"P_diff\"] = msft.Price.sub(msft.P_lag1) # Alternative 1"
      ]
    },
    {
      "cell_type": "code",
      "execution_count": null,
      "id": "339f14ba",
      "metadata": {
        "id": "339f14ba"
      },
      "outputs": [],
      "source": [
        "msft"
      ]
    },
    {
      "cell_type": "code",
      "execution_count": null,
      "id": "e8e21a68",
      "metadata": {
        "scrolled": true,
        "id": "e8e21a68"
      },
      "outputs": [],
      "source": [
        "msft[\"P_diff2\"] = msft.Price.diff(periods = 1)  # Alternative 2"
      ]
    },
    {
      "cell_type": "code",
      "execution_count": null,
      "id": "9e2cceeb",
      "metadata": {
        "id": "9e2cceeb"
      },
      "outputs": [],
      "source": [
        "msft"
      ]
    },
    {
      "cell_type": "code",
      "execution_count": null,
      "id": "27a26eaf",
      "metadata": {
        "id": "27a26eaf"
      },
      "outputs": [],
      "source": [
        "msft.P_diff.equals(msft.P_diff2)"
      ]
    },
    {
      "cell_type": "markdown",
      "id": "5f357e28",
      "metadata": {
        "id": "5f357e28"
      },
      "source": [
        "__-> Absolute Price Changes are not meaningful__"
      ]
    },
    {
      "cell_type": "markdown",
      "id": "d5c33844",
      "metadata": {
        "id": "d5c33844"
      },
      "source": [
        "__Relative/Percentage Price Changes__ (Returns)"
      ]
    },
    {
      "cell_type": "code",
      "execution_count": null,
      "id": "bed7b86b",
      "metadata": {
        "id": "bed7b86b"
      },
      "outputs": [],
      "source": [
        "msft.Price.div(msft.P_lag1) - 1 # Alternative 1"
      ]
    },
    {
      "cell_type": "code",
      "execution_count": null,
      "id": "7d58b822",
      "metadata": {
        "id": "7d58b822"
      },
      "outputs": [],
      "source": [
        "msft[\"Returns\"] = msft.Price.pct_change(periods = 1) # Alternative 2\n",
        "msft"
      ]
    },
    {
      "cell_type": "code",
      "execution_count": null,
      "id": "c1e88090",
      "metadata": {
        "id": "c1e88090"
      },
      "outputs": [],
      "source": [
        "46.0900 / 45.7600 - 1"
      ]
    },
    {
      "cell_type": "code",
      "execution_count": null,
      "id": "31d04169",
      "metadata": {
        "id": "31d04169"
      },
      "outputs": [],
      "source": [
        "(46.0900 / 45.7600 - 1) * 100"
      ]
    },
    {
      "cell_type": "markdown",
      "id": "68659911",
      "metadata": {
        "id": "68659911"
      },
      "source": [
        "__Take Home: Relative Price Changes (Returns) are meaningful and comparable across instruments__"
      ]
    },
    {
      "cell_type": "code",
      "execution_count": null,
      "id": "790bbf10",
      "metadata": {
        "id": "790bbf10"
      },
      "outputs": [],
      "source": [
        "msft.drop(columns = [\"P_lag1\", \"P_diff\", \"P_diff2\"], inplace = True)"
      ]
    },
    {
      "cell_type": "code",
      "execution_count": null,
      "id": "168b1d02",
      "metadata": {
        "id": "168b1d02"
      },
      "outputs": [],
      "source": [
        "msft"
      ]
    },
    {
      "cell_type": "code",
      "execution_count": null,
      "id": "514d9fef",
      "metadata": {
        "id": "514d9fef"
      },
      "outputs": [],
      "source": [
        "msft.to_csv(\"msft.csv\")"
      ]
    },
    {
      "cell_type": "code",
      "execution_count": null,
      "id": "74d1ef67",
      "metadata": {
        "id": "74d1ef67"
      },
      "outputs": [],
      "source": [
        ""
      ]
    },
    {
      "cell_type": "markdown",
      "id": "be1330ba",
      "metadata": {
        "id": "be1330ba"
      },
      "source": [
        "## Measuring Reward and Risk of an Investment"
      ]
    },
    {
      "cell_type": "markdown",
      "id": "7ab5f212",
      "metadata": {
        "id": "7ab5f212"
      },
      "source": [
        "__General Rule in Finance/Investing: Higher Risk must be rewarded with higher Returns__."
      ]
    },
    {
      "cell_type": "code",
      "execution_count": null,
      "id": "1dda24ed",
      "metadata": {
        "id": "1dda24ed"
      },
      "outputs": [],
      "source": [
        "import pandas as pd\n",
        "import numpy as np\n",
        "import matplotlib.pyplot as plt\n",
        "pd.options.display.float_format = '{:.4f}'.format\n",
        "plt.style.use(\"seaborn\")"
      ]
    },
    {
      "cell_type": "code",
      "execution_count": null,
      "id": "87b46753",
      "metadata": {
        "id": "87b46753"
      },
      "outputs": [],
      "source": [
        "msft = pd.read_csv(\"msft.csv\", index_col = \"Date\", parse_dates = [\"Date\"])\n",
        "msft"
      ]
    },
    {
      "cell_type": "code",
      "execution_count": null,
      "id": "69422325",
      "metadata": {
        "id": "69422325"
      },
      "outputs": [],
      "source": [
        "msft.Price.plot(figsize = (15, 8), fontsize = 13)\n",
        "plt.legend(fontsize = 13)\n",
        "plt.show()"
      ]
    },
    {
      "cell_type": "markdown",
      "id": "9e2399cd",
      "metadata": {
        "id": "9e2399cd"
      },
      "source": [
        "- Reward: Positive Returns\n",
        "- Risk: Volatility of Returns"
      ]
    },
    {
      "cell_type": "code",
      "execution_count": null,
      "id": "eb5ba868",
      "metadata": {
        "id": "eb5ba868"
      },
      "outputs": [],
      "source": [
        "msft.describe()"
      ]
    },
    {
      "cell_type": "code",
      "execution_count": null,
      "id": "7d4dab6d",
      "metadata": {
        "id": "7d4dab6d"
      },
      "outputs": [],
      "source": [
        "mu = msft.Returns.mean() # arithmetic mean return -> Reward\n",
        "mu"
      ]
    },
    {
      "cell_type": "code",
      "execution_count": null,
      "id": "57ef6ba0",
      "metadata": {
        "id": "57ef6ba0"
      },
      "outputs": [],
      "source": [
        "sigma = msft.Returns.std() # standard deviation of returns -> Risk/Volatility\n",
        "sigma"
      ]
    },
    {
      "cell_type": "code",
      "execution_count": null,
      "id": "7e6ce734",
      "metadata": {
        "id": "7e6ce734"
      },
      "outputs": [],
      "source": [
        "np.sqrt(msft.Returns.var())"
      ]
    },
    {
      "cell_type": "code",
      "execution_count": null,
      "id": "b284a1c0",
      "metadata": {
        "id": "b284a1c0"
      },
      "outputs": [],
      "source": [
        ""
      ]
    },
    {
      "cell_type": "markdown",
      "id": "11187d1b",
      "metadata": {
        "id": "11187d1b"
      },
      "source": [
        "----------------------------------------"
      ]
    },
    {
      "cell_type": "markdown",
      "id": "282d8e9a",
      "metadata": {
        "id": "282d8e9a"
      },
      "source": [
        "__Coding Challenge #2__"
      ]
    },
    {
      "cell_type": "markdown",
      "id": "b0f32a67",
      "metadata": {
        "id": "b0f32a67"
      },
      "source": [
        "1. Calculate daily returns for Bitcoin."
      ]
    },
    {
      "cell_type": "markdown",
      "id": "683b2760",
      "metadata": {
        "id": "683b2760"
      },
      "source": [
        "2. Calculate the arithmetic mean return and the standard deviation of returns for Bitcoin. "
      ]
    },
    {
      "cell_type": "markdown",
      "id": "c5a569ac",
      "metadata": {
        "id": "c5a569ac"
      },
      "source": [
        "3. Compare Bitcoin with Microsoft (mu = 0.00116, sigma = 0.01726). Does the rule \"Higher Risk -> Higher Reward\" hold?"
      ]
    },
    {
      "cell_type": "markdown",
      "id": "7515a771",
      "metadata": {
        "id": "7515a771"
      },
      "source": [
        "-----------------------------------"
      ]
    },
    {
      "cell_type": "code",
      "execution_count": null,
      "id": "0be0c5bd",
      "metadata": {
        "id": "0be0c5bd"
      },
      "outputs": [],
      "source": [
        ""
      ]
    },
    {
      "cell_type": "markdown",
      "id": "e9e2c678",
      "metadata": {
        "id": "e9e2c678"
      },
      "source": [
        "## Investment Multiple and CAGR "
      ]
    },
    {
      "cell_type": "markdown",
      "id": "f7e0c34f",
      "metadata": {
        "id": "f7e0c34f"
      },
      "source": [
        "__Two alternative reward metrics that are more intuitive and easier to interpret.__"
      ]
    },
    {
      "cell_type": "code",
      "execution_count": null,
      "id": "edb6cd5f",
      "metadata": {
        "id": "edb6cd5f"
      },
      "outputs": [],
      "source": [
        "import pandas as pd\n",
        "import numpy as np\n",
        "import matplotlib.pyplot as plt\n",
        "pd.options.display.float_format = '{:.4f}'.format\n",
        "plt.style.use(\"seaborn\")"
      ]
    },
    {
      "cell_type": "code",
      "execution_count": null,
      "id": "999d9e39",
      "metadata": {
        "id": "999d9e39"
      },
      "outputs": [],
      "source": [
        "msft = pd.read_csv(\"msft.csv\", index_col = \"Date\", parse_dates = [\"Date\"])\n",
        "msft"
      ]
    },
    {
      "cell_type": "markdown",
      "id": "df96f609",
      "metadata": {
        "id": "df96f609"
      },
      "source": [
        "__Investment Multiple__: Ending Value of 1 [Dollar] invested. <br>\n",
        "Multiple = Ending Value / Initial Investment"
      ]
    },
    {
      "cell_type": "code",
      "execution_count": null,
      "id": "52111a93",
      "metadata": {
        "id": "52111a93"
      },
      "outputs": [],
      "source": [
        "multiple = (msft.Price[-1] / msft.Price[0])\n",
        "multiple"
      ]
    },
    {
      "cell_type": "markdown",
      "id": "2e839546",
      "metadata": {
        "id": "2e839546"
      },
      "source": [
        "__Price Increase (in %)__"
      ]
    },
    {
      "cell_type": "code",
      "execution_count": null,
      "id": "1822a98c",
      "metadata": {
        "id": "1822a98c"
      },
      "outputs": [],
      "source": [
        "(multiple - 1) * 100"
      ]
    },
    {
      "cell_type": "code",
      "execution_count": null,
      "id": "36e87338",
      "metadata": {
        "id": "36e87338"
      },
      "outputs": [],
      "source": [
        "msft.Price / msft.Price[0] # similar/identical concept: Normalized Price with Base Value 1"
      ]
    },
    {
      "cell_type": "markdown",
      "id": "be23fbfa",
      "metadata": {
        "id": "be23fbfa"
      },
      "source": [
        "__Drawback of Investment Multiple: Doesn´t take into account investment Period. Meaningful only in conjunction with Investment Period.__"
      ]
    },
    {
      "cell_type": "markdown",
      "id": "b7ca2105",
      "metadata": {
        "id": "b7ca2105"
      },
      "source": [
        "__Compound Annual Growth Rate (CAGR)__: The (constant annual) rate of return that would be required for an investment to grow from its beginning balance to its ending balance, assuming the profits were reinvested at the end of each year of the investment's lifespan. (Wikipedia)"
      ]
    },
    {
      "cell_type": "code",
      "execution_count": null,
      "id": "b35a008d",
      "metadata": {
        "id": "b35a008d"
      },
      "outputs": [],
      "source": [
        "start = msft.index[0]\n",
        "start"
      ]
    },
    {
      "cell_type": "code",
      "execution_count": null,
      "id": "54bf2f80",
      "metadata": {
        "id": "54bf2f80"
      },
      "outputs": [],
      "source": [
        "end = msft.index[-1]\n",
        "end"
      ]
    },
    {
      "cell_type": "code",
      "execution_count": null,
      "id": "d699afe0",
      "metadata": {
        "id": "d699afe0"
      },
      "outputs": [],
      "source": [
        "td = end - start\n",
        "td"
      ]
    },
    {
      "cell_type": "code",
      "execution_count": null,
      "id": "b8d9e91b",
      "metadata": {
        "id": "b8d9e91b"
      },
      "outputs": [],
      "source": [
        "td_years = td.days / 365.25\n",
        "td_years"
      ]
    },
    {
      "cell_type": "code",
      "execution_count": null,
      "id": "8be87362",
      "metadata": {
        "id": "8be87362"
      },
      "outputs": [],
      "source": [
        "cagr = multiple**(1 / td_years) - 1 # short version\n",
        "cagr"
      ]
    },
    {
      "cell_type": "code",
      "execution_count": null,
      "id": "d08ece32",
      "metadata": {
        "id": "d08ece32"
      },
      "outputs": [],
      "source": [
        "cagr = (msft.Price[-1]/msft.Price[0])**(1/((msft.index[-1] - msft.index[0]).days / 365.25)) - 1 # long\n",
        "cagr"
      ]
    },
    {
      "cell_type": "code",
      "execution_count": null,
      "id": "f72df091",
      "metadata": {
        "scrolled": true,
        "id": "f72df091"
      },
      "outputs": [],
      "source": [
        "(1 + cagr)**(td_years) # alternative #2 to calculate multiple (cagr)"
      ]
    },
    {
      "cell_type": "markdown",
      "id": "519e336f",
      "metadata": {
        "id": "519e336f"
      },
      "source": [
        "__-> CAGR can be used to compare Investments with different investment horizons.__"
      ]
    },
    {
      "cell_type": "code",
      "execution_count": null,
      "id": "b434e3ba",
      "metadata": {
        "id": "b434e3ba"
      },
      "outputs": [],
      "source": [
        ""
      ]
    },
    {
      "cell_type": "markdown",
      "id": "e1cf612b",
      "metadata": {
        "id": "e1cf612b"
      },
      "source": [
        "## Compound Returns & Geometric Mean Return"
      ]
    },
    {
      "cell_type": "code",
      "execution_count": null,
      "id": "90e0790d",
      "metadata": {
        "id": "90e0790d"
      },
      "outputs": [],
      "source": [
        "msft"
      ]
    },
    {
      "cell_type": "code",
      "execution_count": null,
      "id": "d8e56942",
      "metadata": {
        "id": "d8e56942"
      },
      "outputs": [],
      "source": [
        "multiple = (1 + msft.Returns).prod() # alternative #3 to calculate multiple (compounding daily returns)\n",
        "multiple"
      ]
    },
    {
      "cell_type": "code",
      "execution_count": null,
      "id": "62826914",
      "metadata": {
        "id": "62826914"
      },
      "outputs": [],
      "source": [
        "n = msft.Returns.count()\n",
        "n"
      ]
    },
    {
      "cell_type": "code",
      "execution_count": null,
      "id": "a0f07b44",
      "metadata": {
        "id": "a0f07b44"
      },
      "outputs": [],
      "source": [
        "geo_mean = multiple**(1/n) - 1 # Geometric mean return (daily)\n",
        "geo_mean"
      ]
    },
    {
      "cell_type": "code",
      "execution_count": null,
      "id": "c62035a8",
      "metadata": {
        "id": "c62035a8"
      },
      "outputs": [],
      "source": [
        "(1 + geo_mean)**n # alternative #4 to calculate multiple (geometric mean)"
      ]
    },
    {
      "cell_type": "markdown",
      "id": "4a40b79a",
      "metadata": {
        "id": "4a40b79a"
      },
      "source": [
        "__-> Compound returns, CAGR & geometric mean return are closely related concepts__."
      ]
    },
    {
      "cell_type": "code",
      "execution_count": null,
      "id": "225aae5a",
      "metadata": {
        "id": "225aae5a"
      },
      "outputs": [],
      "source": [
        "mu = msft.Returns.mean() # arithmetic mean return\n",
        "mu"
      ]
    },
    {
      "cell_type": "markdown",
      "id": "29babea4",
      "metadata": {
        "id": "29babea4"
      },
      "source": [
        "__The arithmetic mean return is always greater than the geometric mean return... and less useful__. "
      ]
    },
    {
      "cell_type": "code",
      "execution_count": null,
      "id": "d5ad145e",
      "metadata": {
        "id": "d5ad145e"
      },
      "outputs": [],
      "source": [
        "(1 + mu)**n # calculate multiple? not possible with arithmetic mean!"
      ]
    },
    {
      "cell_type": "code",
      "execution_count": null,
      "id": "8821af89",
      "metadata": {
        "id": "8821af89"
      },
      "outputs": [],
      "source": [
        ""
      ]
    },
    {
      "cell_type": "markdown",
      "id": "d2fd98bb",
      "metadata": {
        "id": "d2fd98bb"
      },
      "source": [
        "----------------------------"
      ]
    },
    {
      "cell_type": "markdown",
      "id": "72f3b84a",
      "metadata": {
        "id": "72f3b84a"
      },
      "source": [
        "__Coding Challenge #3__"
      ]
    },
    {
      "cell_type": "markdown",
      "id": "99165f98",
      "metadata": {
        "id": "99165f98"
      },
      "source": [
        "1. Calculate Boeing´s Investment Multiple "
      ]
    },
    {
      "cell_type": "markdown",
      "id": "9e4bc538",
      "metadata": {
        "id": "9e4bc538"
      },
      "source": [
        "2. Calculate Boeing´s CAGR"
      ]
    },
    {
      "cell_type": "markdown",
      "id": "41fcf5fa",
      "metadata": {
        "id": "41fcf5fa"
      },
      "source": [
        "3. Calculate Boeing´s Geometric Mean Return"
      ]
    },
    {
      "cell_type": "markdown",
      "id": "959966d1",
      "metadata": {
        "id": "959966d1"
      },
      "source": [
        "4. Calculate Boeing´s Investment Multiple with compound daily returns"
      ]
    },
    {
      "cell_type": "markdown",
      "id": "fe0f938f",
      "metadata": {
        "id": "fe0f938f"
      },
      "source": [
        "----------------------------------"
      ]
    },
    {
      "cell_type": "code",
      "execution_count": null,
      "id": "6ba7005e",
      "metadata": {
        "id": "6ba7005e"
      },
      "outputs": [],
      "source": [
        ""
      ]
    },
    {
      "cell_type": "markdown",
      "id": "4d1c1d40",
      "metadata": {
        "id": "4d1c1d40"
      },
      "source": [
        "## Preview: Simple Returns vs. Logarithmic Returns (log returns)"
      ]
    },
    {
      "cell_type": "markdown",
      "id": "12a7af64",
      "metadata": {
        "id": "12a7af64"
      },
      "source": [
        "Very often log returns are used instead of simple returns.<br>\n",
        "- favourable characteristics of log returns\n",
        "- drawbacks of simple returns"
      ]
    },
    {
      "cell_type": "markdown",
      "id": "46ea6f9e",
      "metadata": {
        "id": "46ea6f9e"
      },
      "source": [
        "Problem: Many Students / Practitioners feel uncomfortable with log returns. <br>\n",
        "-> more detailed background on log returns in the next two Lectures (Discrete vs. Continuous Compounding)"
      ]
    },
    {
      "cell_type": "code",
      "execution_count": null,
      "id": "d0b363fe",
      "metadata": {
        "id": "d0b363fe"
      },
      "outputs": [],
      "source": [
        ""
      ]
    },
    {
      "cell_type": "markdown",
      "id": "b31cacf8",
      "metadata": {
        "id": "b31cacf8"
      },
      "source": [
        "## Discrete Compounding"
      ]
    },
    {
      "cell_type": "markdown",
      "id": "ab790e99",
      "metadata": {
        "id": "ab790e99"
      },
      "source": [
        "__Annual Compounding__ -> Interests accrue once a year at the end of the year"
      ]
    },
    {
      "cell_type": "markdown",
      "id": "f0f7946a",
      "metadata": {
        "id": "f0f7946a"
      },
      "source": [
        "Your Savings Bank offers an interest rate of __8% p.a. (stated rate)__ with __annual compounding__ on your savings (__USD 100__).<br>\n",
        "Calculate the __value__ of your savings account __after one year__ and the corresponding __effective annual interest rate__. "
      ]
    },
    {
      "cell_type": "markdown",
      "id": "73d7a5b6",
      "metadata": {
        "id": "73d7a5b6"
      },
      "source": [
        "__-> Interests are calculated and added to your savings account once at the end of each year.__"
      ]
    },
    {
      "cell_type": "code",
      "execution_count": null,
      "id": "606a1519",
      "metadata": {
        "id": "606a1519"
      },
      "outputs": [],
      "source": [
        "PV = 100\n",
        "r = 0.08\n",
        "n = 1"
      ]
    },
    {
      "cell_type": "code",
      "execution_count": null,
      "id": "ac5b11d3",
      "metadata": {
        "id": "ac5b11d3"
      },
      "outputs": [],
      "source": [
        "100 * 1.08"
      ]
    },
    {
      "cell_type": "code",
      "execution_count": null,
      "id": "74ab7526",
      "metadata": {
        "id": "74ab7526"
      },
      "outputs": [],
      "source": [
        "FV = PV * (1 + r)**n\n",
        "FV"
      ]
    },
    {
      "cell_type": "code",
      "execution_count": null,
      "id": "ec54e725",
      "metadata": {
        "id": "ec54e725"
      },
      "outputs": [],
      "source": [
        "effective_annual_rate = (FV / PV)**(1/n) - 1 \n",
        "effective_annual_rate"
      ]
    },
    {
      "cell_type": "code",
      "execution_count": null,
      "id": "3197f22f",
      "metadata": {
        "id": "3197f22f"
      },
      "outputs": [],
      "source": [
        ""
      ]
    },
    {
      "cell_type": "markdown",
      "id": "d0a07a4f",
      "metadata": {
        "id": "d0a07a4f"
      },
      "source": [
        "__Quarterly Compounding__ -> Interests accrue once a quarter at the end of the quarter"
      ]
    },
    {
      "cell_type": "markdown",
      "id": "daa65e20",
      "metadata": {
        "id": "daa65e20"
      },
      "source": [
        "Your Savings Bank offers an interest rate of __8% p.a. (stated rate)__ with __quarterly compounding__ on your savings (__USD 100__).<br>\n",
        "Calculate the __value__ of your savings account __after one year__ and the corresponding __effective annual interest rate__. "
      ]
    },
    {
      "cell_type": "markdown",
      "id": "e61445a8",
      "metadata": {
        "id": "e61445a8"
      },
      "source": [
        "__-> Interests are calculated and added to your savings account at the end of each quarter.__"
      ]
    },
    {
      "cell_type": "code",
      "execution_count": null,
      "id": "43bcff3e",
      "metadata": {
        "id": "43bcff3e"
      },
      "outputs": [],
      "source": [
        "PV = 100\n",
        "r = 0.08\n",
        "n = 1\n",
        "m = 4"
      ]
    },
    {
      "cell_type": "code",
      "execution_count": null,
      "id": "323e70ef",
      "metadata": {
        "id": "323e70ef"
      },
      "outputs": [],
      "source": [
        "100 * 1.02 * 1.02 * 1.02 * 1.02"
      ]
    },
    {
      "cell_type": "code",
      "execution_count": null,
      "id": "90535e79",
      "metadata": {
        "id": "90535e79"
      },
      "outputs": [],
      "source": [
        "FV = PV * (1 + r/m)**(n*m)\n",
        "FV"
      ]
    },
    {
      "cell_type": "code",
      "execution_count": null,
      "id": "86ee1a91",
      "metadata": {
        "id": "86ee1a91"
      },
      "outputs": [],
      "source": [
        "effective_annual_rate = (FV / PV)**(1/n) - 1 \n",
        "effective_annual_rate"
      ]
    },
    {
      "cell_type": "markdown",
      "id": "e3e5af74",
      "metadata": {
        "id": "e3e5af74"
      },
      "source": [
        "__-> Quarterly compounding is favourable (everything else equal) as we earn compound interest (interest on interest).__"
      ]
    },
    {
      "cell_type": "code",
      "execution_count": null,
      "id": "3be09664",
      "metadata": {
        "id": "3be09664"
      },
      "outputs": [],
      "source": [
        ""
      ]
    },
    {
      "cell_type": "markdown",
      "id": "05a5bee9",
      "metadata": {
        "id": "05a5bee9"
      },
      "source": [
        "__Monthly Compounding__ -> Interests accrue once a month at the end of the month"
      ]
    },
    {
      "cell_type": "markdown",
      "id": "c84fa2b1",
      "metadata": {
        "id": "c84fa2b1"
      },
      "source": [
        "Your Savings Bank offers an interest rate of __8% p.a. (stated rate)__ with __monthly compounding__ on your savings (__USD 100__).<br>\n",
        "Calculate the __value__ of your savings account __after one year__ and the corresponding __effective annual interest rate__. "
      ]
    },
    {
      "cell_type": "markdown",
      "id": "37739b5a",
      "metadata": {
        "id": "37739b5a"
      },
      "source": [
        "__-> Interests are calculated and added to your savings account at the end of each month.__"
      ]
    },
    {
      "cell_type": "code",
      "execution_count": null,
      "id": "828fa20a",
      "metadata": {
        "id": "828fa20a"
      },
      "outputs": [],
      "source": [
        "PV = 100\n",
        "r = 0.08\n",
        "n = 1\n",
        "m = 12"
      ]
    },
    {
      "cell_type": "code",
      "execution_count": null,
      "id": "f28f7594",
      "metadata": {
        "id": "f28f7594"
      },
      "outputs": [],
      "source": [
        "FV = PV * (1 + r/m)**(n*m)\n",
        "FV"
      ]
    },
    {
      "cell_type": "code",
      "execution_count": null,
      "id": "fbad2a6f",
      "metadata": {
        "id": "fbad2a6f"
      },
      "outputs": [],
      "source": [
        "effective_annual_rate = ((FV / PV)**(1/n) - 1) \n",
        "effective_annual_rate"
      ]
    },
    {
      "cell_type": "code",
      "execution_count": null,
      "id": "5469b5a8",
      "metadata": {
        "id": "5469b5a8"
      },
      "outputs": [],
      "source": [
        ""
      ]
    },
    {
      "cell_type": "markdown",
      "id": "cd626d18",
      "metadata": {
        "id": "cd626d18"
      },
      "source": [
        "## Continuous Compounding "
      ]
    },
    {
      "cell_type": "code",
      "execution_count": null,
      "id": "ba4e84d1",
      "metadata": {
        "id": "ba4e84d1"
      },
      "outputs": [],
      "source": [
        "import numpy as np"
      ]
    },
    {
      "cell_type": "markdown",
      "id": "08d7c0c6",
      "metadata": {
        "id": "08d7c0c6"
      },
      "source": [
        "Your Savings Bank offers an interest rate of __8% p.a. (stated rate)__ with __continuous compounding__ on your savings (__USD 100__).<br>\n",
        "Calculate the __value__ of your savings account __after one year__ and the corresponding __effective annual interest rate__. "
      ]
    },
    {
      "cell_type": "markdown",
      "id": "15d66c94",
      "metadata": {
        "id": "15d66c94"
      },
      "source": [
        "__-> Interests are calculated and added to your savings account continuously (infinitely large number of compounding events).__ -> continuous exponential growth that can be observed in nature"
      ]
    },
    {
      "cell_type": "code",
      "execution_count": null,
      "id": "e144d9b2",
      "metadata": {
        "id": "e144d9b2"
      },
      "outputs": [],
      "source": [
        "PV = 100\n",
        "r = 0.08\n",
        "n = 1\n",
        "m = 100000 # approx.infinity"
      ]
    },
    {
      "cell_type": "code",
      "execution_count": null,
      "id": "d82d62ab",
      "metadata": {
        "id": "d82d62ab"
      },
      "outputs": [],
      "source": [
        "FV = PV * (1 + r/m)**(n*m) # approx. with large m\n",
        "FV"
      ]
    },
    {
      "cell_type": "code",
      "execution_count": null,
      "id": "7b2b9a40",
      "metadata": {
        "id": "7b2b9a40"
      },
      "outputs": [],
      "source": [
        "FV = PV * np.exp(n * r) # exact math with e (euler number)\n",
        "FV"
      ]
    },
    {
      "cell_type": "code",
      "execution_count": null,
      "id": "94f98500",
      "metadata": {
        "id": "94f98500"
      },
      "outputs": [],
      "source": [
        "euler = np.exp(1)\n",
        "euler"
      ]
    },
    {
      "cell_type": "code",
      "execution_count": null,
      "id": "a91bbe5f",
      "metadata": {
        "id": "a91bbe5f"
      },
      "outputs": [],
      "source": [
        "PV * euler**(n * r)"
      ]
    },
    {
      "cell_type": "code",
      "execution_count": null,
      "id": "37b71241",
      "metadata": {
        "id": "37b71241"
      },
      "outputs": [],
      "source": [
        "effective_annual_rate = ((FV / PV)**(1/n) - 1) # Alt 1\n",
        "effective_annual_rate"
      ]
    },
    {
      "cell_type": "code",
      "execution_count": null,
      "id": "27d87e89",
      "metadata": {
        "id": "27d87e89"
      },
      "outputs": [],
      "source": [
        "effective_annual_rate = np.exp(r) - 1 # Alt 2\n",
        "effective_annual_rate"
      ]
    },
    {
      "cell_type": "markdown",
      "id": "f51b1f87",
      "metadata": {
        "id": "f51b1f87"
      },
      "source": [
        "Let´s assume we only observe PV and FV, how to calculate the stated rate/continuously compounded rate of 8%?"
      ]
    },
    {
      "cell_type": "code",
      "execution_count": null,
      "id": "6558ce10",
      "metadata": {
        "id": "6558ce10"
      },
      "outputs": [],
      "source": [
        "r = np.log(FV / PV) # inverse calculation -> use log (Alt 1)\n",
        "r"
      ]
    },
    {
      "cell_type": "code",
      "execution_count": null,
      "id": "28475db5",
      "metadata": {
        "id": "28475db5"
      },
      "outputs": [],
      "source": [
        "r = np.log(effective_annual_rate + 1) # inverse calculation -> use log (Alt 2)\n",
        "r"
      ]
    },
    {
      "cell_type": "markdown",
      "id": "a5d8ac80",
      "metadata": {
        "id": "a5d8ac80"
      },
      "source": [
        "__Take Home: Prices of traded Financial Instruments change (approx.) continuously. <br>\n",
        "-> Intuitively, it makes a lot of sense to work with log returns.__ "
      ]
    },
    {
      "cell_type": "code",
      "execution_count": null,
      "id": "52758a86",
      "metadata": {
        "id": "52758a86"
      },
      "outputs": [],
      "source": [
        ""
      ]
    },
    {
      "cell_type": "markdown",
      "id": "96b19065",
      "metadata": {
        "id": "96b19065"
      },
      "source": [
        "## Log Returns"
      ]
    },
    {
      "cell_type": "code",
      "execution_count": null,
      "id": "7c82f315",
      "metadata": {
        "id": "7c82f315"
      },
      "outputs": [],
      "source": [
        "import pandas as pd\n",
        "import numpy as np\n",
        "pd.options.display.float_format = '{:.6f}'.format"
      ]
    },
    {
      "cell_type": "code",
      "execution_count": null,
      "id": "27c72f01",
      "metadata": {
        "id": "27c72f01"
      },
      "outputs": [],
      "source": [
        "msft = pd.read_csv(\"msft.csv\", index_col = \"Date\", parse_dates = [\"Date\"])\n",
        "msft"
      ]
    },
    {
      "cell_type": "code",
      "execution_count": null,
      "id": "42d84e69",
      "metadata": {
        "id": "42d84e69"
      },
      "outputs": [],
      "source": [
        "msft[\"log_ret\"] = np.log(msft.Price / msft.Price.shift()) # daily log returns"
      ]
    },
    {
      "cell_type": "code",
      "execution_count": null,
      "id": "79b241ac",
      "metadata": {
        "id": "79b241ac"
      },
      "outputs": [],
      "source": [
        "msft"
      ]
    },
    {
      "cell_type": "code",
      "execution_count": null,
      "id": "0362b297",
      "metadata": {
        "id": "0362b297"
      },
      "outputs": [],
      "source": [
        "msft.describe()"
      ]
    },
    {
      "cell_type": "code",
      "execution_count": null,
      "id": "dd00259f",
      "metadata": {
        "id": "dd00259f"
      },
      "outputs": [],
      "source": [
        "mu = msft.log_ret.mean() # mean log return -> Reward\n",
        "mu"
      ]
    },
    {
      "cell_type": "code",
      "execution_count": null,
      "id": "6cc4afb2",
      "metadata": {
        "id": "6cc4afb2"
      },
      "outputs": [],
      "source": [
        "sigma = msft.log_ret.std() # standard deviation of log returns -> Risk/Volatility\n",
        "sigma"
      ]
    },
    {
      "cell_type": "code",
      "execution_count": null,
      "id": "6276d1f3",
      "metadata": {
        "id": "6276d1f3"
      },
      "outputs": [],
      "source": [
        ""
      ]
    },
    {
      "cell_type": "markdown",
      "id": "d91b4326",
      "metadata": {
        "id": "d91b4326"
      },
      "source": [
        "## Simple Returns vs Log Returns ( Part 1)"
      ]
    },
    {
      "cell_type": "code",
      "execution_count": null,
      "id": "6d3cfdeb",
      "metadata": {
        "id": "6d3cfdeb"
      },
      "outputs": [],
      "source": [
        "import pandas as pd\n",
        "import numpy as np\n",
        "pd.options.display.float_format = '{:.6f}'.format"
      ]
    },
    {
      "cell_type": "code",
      "execution_count": null,
      "id": "9f28e219",
      "metadata": {
        "id": "9f28e219"
      },
      "outputs": [],
      "source": [
        "df = pd.DataFrame(data = [100, 50, 90], columns = [\"Price\"])\n",
        "df"
      ]
    },
    {
      "cell_type": "code",
      "execution_count": null,
      "id": "4f8cda44",
      "metadata": {
        "id": "4f8cda44"
      },
      "outputs": [],
      "source": [
        "df[\"SR\"] = df.Price.pct_change() # simple returns"
      ]
    },
    {
      "cell_type": "code",
      "execution_count": null,
      "id": "9eaaa4bd",
      "metadata": {
        "id": "9eaaa4bd"
      },
      "outputs": [],
      "source": [
        "df[\"LR\"] = np.log(df.Price / df.Price.shift()) # log returns"
      ]
    },
    {
      "cell_type": "code",
      "execution_count": null,
      "id": "d97332ce",
      "metadata": {
        "id": "d97332ce"
      },
      "outputs": [],
      "source": [
        "df"
      ]
    },
    {
      "cell_type": "code",
      "execution_count": null,
      "id": "c9fff857",
      "metadata": {
        "id": "c9fff857"
      },
      "outputs": [],
      "source": [
        "periods = df.SR.count()\n",
        "periods"
      ]
    },
    {
      "cell_type": "markdown",
      "id": "e6d64f86",
      "metadata": {
        "id": "e6d64f86"
      },
      "source": [
        "__The arithmetic mean of simple returns can be misleading!__"
      ]
    },
    {
      "cell_type": "code",
      "execution_count": null,
      "id": "378c1131",
      "metadata": {
        "id": "378c1131"
      },
      "outputs": [],
      "source": [
        "mean_sr = df.SR.mean()\n",
        "mean_sr"
      ]
    },
    {
      "cell_type": "code",
      "execution_count": null,
      "id": "9bbac9e4",
      "metadata": {
        "id": "9bbac9e4"
      },
      "outputs": [],
      "source": [
        "100 * (1 + mean_sr)**periods # wrong!!!"
      ]
    },
    {
      "cell_type": "markdown",
      "id": "be27832e",
      "metadata": {
        "id": "be27832e"
      },
      "source": [
        "__We should use Compound Simple Returns / Geometric Mean, or even better...__"
      ]
    },
    {
      "cell_type": "code",
      "execution_count": null,
      "id": "0355f254",
      "metadata": {
        "id": "0355f254"
      },
      "outputs": [],
      "source": [
        "geo_mean = (1 + df.SR).prod()**(1 / periods) - 1\n",
        "geo_mean"
      ]
    },
    {
      "cell_type": "code",
      "execution_count": null,
      "id": "88119da8",
      "metadata": {
        "id": "88119da8"
      },
      "outputs": [],
      "source": [
        "100 * (1 + geo_mean)**periods # correct!!!"
      ]
    },
    {
      "cell_type": "markdown",
      "id": "9aa0f2fd",
      "metadata": {
        "id": "9aa0f2fd"
      },
      "source": [
        "__...Log Returns which are additive over time!__"
      ]
    },
    {
      "cell_type": "code",
      "execution_count": null,
      "id": "9399f506",
      "metadata": {
        "id": "9399f506"
      },
      "outputs": [],
      "source": [
        "sum_lr = df.LR.sum()\n",
        "sum_lr"
      ]
    },
    {
      "cell_type": "code",
      "execution_count": null,
      "id": "47361d04",
      "metadata": {
        "id": "47361d04"
      },
      "outputs": [],
      "source": [
        "100 * np.exp(sum_lr) # correct!!!"
      ]
    },
    {
      "cell_type": "code",
      "execution_count": null,
      "id": "4d94bdf3",
      "metadata": {
        "id": "4d94bdf3"
      },
      "outputs": [],
      "source": [
        "mean_lr = df.LR.mean()\n",
        "mean_lr"
      ]
    },
    {
      "cell_type": "code",
      "execution_count": null,
      "id": "47fac2ea",
      "metadata": {
        "id": "47fac2ea"
      },
      "outputs": [],
      "source": [
        "100 * np.exp(mean_lr * periods) # correct!!!"
      ]
    },
    {
      "cell_type": "markdown",
      "id": "595ad7f6",
      "metadata": {
        "id": "595ad7f6"
      },
      "source": [
        "__Take Home: Log Returns are additive over time. Simple Returns are not additive over time (but they can be multiplied/compounded)__"
      ]
    },
    {
      "cell_type": "code",
      "execution_count": null,
      "id": "22b37a14",
      "metadata": {
        "id": "22b37a14"
      },
      "outputs": [],
      "source": [
        ""
      ]
    },
    {
      "cell_type": "markdown",
      "id": "652d274f",
      "metadata": {
        "id": "652d274f"
      },
      "source": [
        "## Simple Returns vs. Log Returns (Part 2)"
      ]
    },
    {
      "cell_type": "code",
      "execution_count": null,
      "id": "7ec82fd5",
      "metadata": {
        "id": "7ec82fd5"
      },
      "outputs": [],
      "source": [
        "import pandas as pd\n",
        "import numpy as np\n",
        "pd.options.display.float_format = '{:.6f}'.format"
      ]
    },
    {
      "cell_type": "code",
      "execution_count": null,
      "id": "3a8c5e51",
      "metadata": {
        "id": "3a8c5e51"
      },
      "outputs": [],
      "source": [
        "msft = pd.read_csv(\"msft.csv\", index_col = \"Date\", parse_dates = [\"Date\"])"
      ]
    },
    {
      "cell_type": "code",
      "execution_count": null,
      "id": "254fc71e",
      "metadata": {
        "id": "254fc71e"
      },
      "outputs": [],
      "source": [
        "msft[\"log_ret\"] = np.log(msft.Price / msft.Price.shift())"
      ]
    },
    {
      "cell_type": "code",
      "execution_count": null,
      "id": "c8ad7fa3",
      "metadata": {
        "id": "c8ad7fa3"
      },
      "outputs": [],
      "source": [
        "msft"
      ]
    },
    {
      "cell_type": "markdown",
      "id": "62f97501",
      "metadata": {
        "id": "62f97501"
      },
      "source": [
        "__Investment Multiple__"
      ]
    },
    {
      "cell_type": "code",
      "execution_count": null,
      "id": "fd5a9b95",
      "metadata": {
        "id": "fd5a9b95"
      },
      "outputs": [],
      "source": [
        "msft.Returns.add(1).prod() # compounding simple returns (\"compound returns\")"
      ]
    },
    {
      "cell_type": "code",
      "execution_count": null,
      "id": "25050efd",
      "metadata": {
        "id": "25050efd"
      },
      "outputs": [],
      "source": [
        "np.exp(msft.log_ret.sum())  # adding log returns (\"cumulative returns\")"
      ]
    },
    {
      "cell_type": "markdown",
      "id": "6c1767d2",
      "metadata": {
        "id": "6c1767d2"
      },
      "source": [
        "__Normalized Prices with Base 1__"
      ]
    },
    {
      "cell_type": "code",
      "execution_count": null,
      "id": "76468313",
      "metadata": {
        "id": "76468313"
      },
      "outputs": [],
      "source": [
        "msft.Returns.add(1).cumprod() # compounding simple returns (\"compound returns\")"
      ]
    },
    {
      "cell_type": "code",
      "execution_count": null,
      "id": "32c08e10",
      "metadata": {
        "id": "32c08e10"
      },
      "outputs": [],
      "source": [
        "np.exp(msft.log_ret.cumsum()) # adding log returns (\"cumulative returns\")"
      ]
    },
    {
      "cell_type": "code",
      "execution_count": null,
      "id": "559bdc54",
      "metadata": {
        "id": "559bdc54"
      },
      "outputs": [],
      "source": [
        "msft.log_ret.cumsum().apply(np.exp) # adding log returns (\"cumulative returns\")"
      ]
    },
    {
      "cell_type": "markdown",
      "id": "41e734da",
      "metadata": {
        "id": "41e734da"
      },
      "source": [
        "__CAGR__"
      ]
    },
    {
      "cell_type": "code",
      "execution_count": null,
      "id": "e2b17fb6",
      "metadata": {
        "id": "e2b17fb6"
      },
      "outputs": [],
      "source": [
        "(msft.Price[-1]/msft.Price[0])**(1/((msft.index[-1] - msft.index[0]).days / 365.25)) - 1"
      ]
    },
    {
      "cell_type": "code",
      "execution_count": null,
      "id": "b5992ae9",
      "metadata": {
        "id": "b5992ae9"
      },
      "outputs": [],
      "source": [
        "trading_days_year = msft.Returns.count() / ((msft.index[-1] - msft.index[0]).days / 365.25)\n",
        "trading_days_year"
      ]
    },
    {
      "cell_type": "code",
      "execution_count": null,
      "id": "9acda5d7",
      "metadata": {
        "id": "9acda5d7"
      },
      "outputs": [],
      "source": [
        "np.exp(msft.log_ret.mean() * trading_days_year) - 1 # correct with mean of daily log returns!"
      ]
    },
    {
      "cell_type": "code",
      "execution_count": null,
      "id": "6b484e17",
      "metadata": {
        "id": "6b484e17"
      },
      "outputs": [],
      "source": [
        "msft.Returns.mean() * trading_days_year # incorrect with mean of daily simple returns!"
      ]
    },
    {
      "cell_type": "code",
      "execution_count": null,
      "id": "78da063e",
      "metadata": {
        "id": "78da063e"
      },
      "outputs": [],
      "source": [
        "np.exp(msft.log_ret.mean() * 252) - 1 # good approximation (for us stocks)"
      ]
    },
    {
      "cell_type": "code",
      "execution_count": null,
      "id": "5d8c66cf",
      "metadata": {
        "id": "5d8c66cf"
      },
      "outputs": [],
      "source": [
        ""
      ]
    },
    {
      "cell_type": "markdown",
      "id": "0643d65e",
      "metadata": {
        "id": "0643d65e"
      },
      "source": [
        "--------------------------------------------"
      ]
    },
    {
      "cell_type": "markdown",
      "id": "9ecb9e67",
      "metadata": {
        "id": "9ecb9e67"
      },
      "source": [
        "__Coding Challenge #4__"
      ]
    },
    {
      "cell_type": "markdown",
      "id": "0d247fe7",
      "metadata": {
        "id": "0d247fe7"
      },
      "source": [
        "1. Calculate daily log returns for Boeing."
      ]
    },
    {
      "cell_type": "markdown",
      "id": "aaf8edc1",
      "metadata": {
        "id": "aaf8edc1"
      },
      "source": [
        "2. Use Boeing´s log returns to calculate \n",
        "- Investment Multiple\n",
        "- CAGR (assuming 252 trading days)\n",
        "- Normalized Prices (Base = 1)"
      ]
    },
    {
      "cell_type": "markdown",
      "id": "4f496b69",
      "metadata": {
        "id": "4f496b69"
      },
      "source": [
        "---------------------------------------------"
      ]
    },
    {
      "cell_type": "code",
      "execution_count": null,
      "id": "a5712971",
      "metadata": {
        "id": "a5712971"
      },
      "outputs": [],
      "source": [
        ""
      ]
    },
    {
      "cell_type": "markdown",
      "id": "b31a152d",
      "metadata": {
        "id": "b31a152d"
      },
      "source": [
        "## Performance Comparison"
      ]
    },
    {
      "cell_type": "markdown",
      "id": "6bad891f",
      "metadata": {
        "id": "6bad891f"
      },
      "source": [
        "__General Rule in Finance/Investing: Higher Risk must be rewarded with higher Returns__."
      ]
    },
    {
      "cell_type": "markdown",
      "id": "97266cd6",
      "metadata": {
        "id": "97266cd6"
      },
      "source": [
        "__Which instrument(s) performed best/worst in the past in terms of risk & return?__"
      ]
    },
    {
      "cell_type": "code",
      "execution_count": null,
      "id": "d8c6ba2a",
      "metadata": {
        "id": "d8c6ba2a"
      },
      "outputs": [],
      "source": [
        "import pandas as pd\n",
        "import numpy as np\n",
        "pd.options.display.float_format = '{:.4f}'.format\n",
        "import matplotlib.pyplot as plt\n",
        "plt.style.use(\"seaborn\")"
      ]
    },
    {
      "cell_type": "code",
      "execution_count": null,
      "id": "502adcd4",
      "metadata": {
        "id": "502adcd4"
      },
      "outputs": [],
      "source": [
        "close = pd.read_csv(\"close.csv\", index_col = \"Date\", parse_dates = [\"Date\"])\n",
        "close"
      ]
    },
    {
      "cell_type": "code",
      "execution_count": null,
      "id": "84d364bd",
      "metadata": {
        "id": "84d364bd"
      },
      "outputs": [],
      "source": [
        "close.info()"
      ]
    },
    {
      "cell_type": "code",
      "execution_count": null,
      "id": "b2efa2b1",
      "metadata": {
        "id": "b2efa2b1"
      },
      "outputs": [],
      "source": [
        "close.dropna().plot(figsize = (15, 8), fontsize = 13)\n",
        "plt.legend(fontsize = 13)\n",
        "plt.show()"
      ]
    },
    {
      "cell_type": "code",
      "execution_count": null,
      "id": "d4a4a889",
      "metadata": {
        "id": "d4a4a889"
      },
      "outputs": [],
      "source": [
        "np.log(close / close.shift()).info() # keep NaN"
      ]
    },
    {
      "cell_type": "code",
      "execution_count": null,
      "id": "a99b01f6",
      "metadata": {
        "id": "a99b01f6"
      },
      "outputs": [],
      "source": [
        "close.apply(lambda x: np.log(x.dropna() / x.dropna().shift())).info() # remove NaN"
      ]
    },
    {
      "cell_type": "code",
      "execution_count": null,
      "id": "dd4c2b38",
      "metadata": {
        "id": "dd4c2b38"
      },
      "outputs": [],
      "source": [
        "returns = close.apply(lambda x: np.log(x.dropna() / x.dropna().shift()))\n",
        "returns"
      ]
    },
    {
      "cell_type": "code",
      "execution_count": null,
      "id": "21015808",
      "metadata": {
        "id": "21015808"
      },
      "outputs": [],
      "source": [
        "returns.info()"
      ]
    },
    {
      "cell_type": "code",
      "execution_count": null,
      "id": "6f6ecab0",
      "metadata": {
        "id": "6f6ecab0"
      },
      "outputs": [],
      "source": [
        "returns.describe()"
      ]
    },
    {
      "cell_type": "code",
      "execution_count": null,
      "id": "bd8c3895",
      "metadata": {
        "id": "bd8c3895"
      },
      "outputs": [],
      "source": [
        "summary = returns.agg([\"mean\", \"std\"]).T\n",
        "summary"
      ]
    },
    {
      "cell_type": "code",
      "execution_count": null,
      "id": "5242b620",
      "metadata": {
        "id": "5242b620"
      },
      "outputs": [],
      "source": [
        "summary.columns = [\"Mean\", \"Std\"]\n",
        "summary"
      ]
    },
    {
      "cell_type": "code",
      "execution_count": null,
      "id": "6dc0b4a7",
      "metadata": {
        "id": "6dc0b4a7"
      },
      "outputs": [],
      "source": [
        "summary.plot(kind = \"scatter\", x = \"Std\", y = \"Mean\", figsize = (15,12), s = 50, fontsize = 15)\n",
        "for i in summary.index:\n",
        "    plt.annotate(i, xy=(summary.loc[i, \"Std\"]+0.00005, summary.loc[i, \"Mean\"]+0.00005), size = 15)\n",
        "plt.xlabel(\"Risk (std)\", fontsize = 15)\n",
        "plt.ylabel(\"Mean Return\", fontsize = 15)\n",
        "plt.title(\"Mean-Variance Analysis\", fontsize = 20)\n",
        "plt.show()"
      ]
    },
    {
      "cell_type": "markdown",
      "id": "478a900b",
      "metadata": {
        "id": "478a900b"
      },
      "source": [
        "-> There is __no clear \"best-performer\"__ among [\"EURUSD=X\", \"GC=F\", \"^DJI\", \"MSFT\", \"BTC-USD\"] (without further analysis). __Higher risk__ is getting rewarded with __higher returns__. __BA underperformed__."
      ]
    },
    {
      "cell_type": "code",
      "execution_count": null,
      "id": "4ab9109b",
      "metadata": {
        "id": "4ab9109b"
      },
      "outputs": [],
      "source": [
        ""
      ]
    },
    {
      "cell_type": "markdown",
      "id": "a4ac92fe",
      "metadata": {
        "id": "a4ac92fe"
      },
      "source": [
        "__Take Home: Mean-Variance Analysis has one major shortcoming: It assumes that financial returns follow a Normal Distribution. That´s (typically) not True.<br> -> Standard Deviation of Returns underestimates the true/full risk of an Investment as it fails to measure \"Tail Risks\".__ "
      ]
    },
    {
      "cell_type": "code",
      "execution_count": null,
      "id": "58baeef9",
      "metadata": {
        "id": "58baeef9"
      },
      "outputs": [],
      "source": [
        ""
      ]
    },
    {
      "cell_type": "markdown",
      "id": "536ab4f2",
      "metadata": {
        "id": "536ab4f2"
      },
      "source": [
        "## Normality of Financial Returns "
      ]
    },
    {
      "cell_type": "code",
      "execution_count": null,
      "id": "c26d4842",
      "metadata": {
        "id": "c26d4842"
      },
      "outputs": [],
      "source": [
        "import pandas as pd\n",
        "import numpy as np\n",
        "pd.options.display.float_format = '{:.4f}'.format\n",
        "import matplotlib.pyplot as plt\n",
        "plt.style.use(\"seaborn\")"
      ]
    },
    {
      "cell_type": "code",
      "execution_count": null,
      "id": "7264ef5b",
      "metadata": {
        "id": "7264ef5b"
      },
      "outputs": [],
      "source": [
        "msft = pd.read_csv(\"msft.csv\", index_col = \"Date\", parse_dates = [\"Date\"])\n",
        "msft"
      ]
    },
    {
      "cell_type": "code",
      "execution_count": null,
      "id": "03ded835",
      "metadata": {
        "id": "03ded835"
      },
      "outputs": [],
      "source": [
        "msft[\"log_ret\"] = np.log(msft.Price / msft.Price.shift()) \n",
        "msft"
      ]
    },
    {
      "cell_type": "code",
      "execution_count": null,
      "id": "b0856b5a",
      "metadata": {
        "scrolled": true,
        "id": "b0856b5a"
      },
      "outputs": [],
      "source": [
        "msft.describe()"
      ]
    },
    {
      "cell_type": "code",
      "execution_count": null,
      "id": "3b3f3818",
      "metadata": {
        "id": "3b3f3818"
      },
      "outputs": [],
      "source": [
        "msft.log_ret.plot(kind = \"hist\", figsize = (15 ,8), bins = 100, fontsize = 15, density = False) # Frequency Distribution of log returns\n",
        "plt.xlabel(\"Daily Returns\", fontsize = 15)\n",
        "plt.ylabel(\"Frequency\", fontsize = 15)\n",
        "plt.title(\"Frequency Distribution of Returns\", fontsize = 20)\n",
        "plt.show()"
      ]
    },
    {
      "cell_type": "markdown",
      "id": "e3b65671",
      "metadata": {
        "id": "e3b65671"
      },
      "source": [
        "__Do MSFT Returns follow a Normal Distribution?__ <br><br>\n",
        "A normally distributed random variable can be fully described by its \n",
        "- mean\n",
        "- standard deviation"
      ]
    },
    {
      "cell_type": "markdown",
      "id": "a9a3b024",
      "metadata": {
        "id": "a9a3b024"
      },
      "source": [
        "Higher Central Moments are zero:\n",
        "- Skew = 0 (measures symmetrie around the mean)\n",
        "- (Excess) Kurtosis = 0 (positve excess Kurtosis -> more observations in the \"tails\")"
      ]
    },
    {
      "cell_type": "code",
      "execution_count": null,
      "id": "9c2dc85f",
      "metadata": {
        "scrolled": true,
        "id": "9c2dc85f"
      },
      "outputs": [],
      "source": [
        "mu = msft.log_ret.mean()\n",
        "mu"
      ]
    },
    {
      "cell_type": "code",
      "execution_count": null,
      "id": "7085eab9",
      "metadata": {
        "id": "7085eab9"
      },
      "outputs": [],
      "source": [
        "sigma = msft.log_ret.std()\n",
        "sigma"
      ]
    },
    {
      "cell_type": "code",
      "execution_count": null,
      "id": "d4d2420b",
      "metadata": {
        "id": "d4d2420b"
      },
      "outputs": [],
      "source": [
        "import scipy.stats as stats"
      ]
    },
    {
      "cell_type": "code",
      "execution_count": null,
      "id": "6a46461d",
      "metadata": {
        "id": "6a46461d"
      },
      "outputs": [],
      "source": [
        "stats.skew(msft.log_ret.dropna()) # in a Normal Distribution: skew == 0"
      ]
    },
    {
      "cell_type": "code",
      "execution_count": null,
      "id": "37046a63",
      "metadata": {
        "id": "37046a63"
      },
      "outputs": [],
      "source": [
        "stats.kurtosis(msft.log_ret.dropna(), fisher = True) # in a Normal Distribution: (fisher) kurtosis == 0"
      ]
    },
    {
      "cell_type": "markdown",
      "id": "83174c71",
      "metadata": {
        "id": "83174c71"
      },
      "source": [
        "__-> MSFT Returns exhibit \"Fat Tails\" (extreme positive/negative outcomes).__"
      ]
    },
    {
      "cell_type": "code",
      "execution_count": null,
      "id": "44fb9229",
      "metadata": {
        "id": "44fb9229"
      },
      "outputs": [],
      "source": [
        "x = np.linspace(msft.log_ret.min(), msft.log_ret.max(), 10000)\n",
        "x"
      ]
    },
    {
      "cell_type": "code",
      "execution_count": null,
      "id": "799fc3d7",
      "metadata": {
        "id": "799fc3d7"
      },
      "outputs": [],
      "source": [
        "y = stats.norm.pdf(x, loc = mu, scale = sigma) # creating y values a for normal distribution with mu, sigma\n",
        "y"
      ]
    },
    {
      "cell_type": "code",
      "execution_count": null,
      "id": "5aa754c1",
      "metadata": {
        "id": "5aa754c1"
      },
      "outputs": [],
      "source": [
        "plt.figure(figsize = (20, 8))\n",
        "plt.hist(msft.log_ret, bins = 500, density = True, label = \"Frequency Distribution of daily Returns (MSFT)\")\n",
        "plt.plot(x, y, linewidth = 3, color = \"red\", label = \"Normal Distribution\")\n",
        "plt.title(\"Normal Distribution\", fontsize = 20)\n",
        "plt.xlabel(\"Daily Returns\", fontsize = 15)\n",
        "plt.ylabel(\"pdf\", fontsize = 15)\n",
        "plt.legend(fontsize = 15)\n",
        "plt.show()"
      ]
    },
    {
      "cell_type": "markdown",
      "id": "03f2a07c",
      "metadata": {
        "id": "03f2a07c"
      },
      "source": [
        "__-> MSFT Returns exhibit \"Fat Tails\" (extreme positive/negative outcomes).__ "
      ]
    },
    {
      "cell_type": "code",
      "execution_count": null,
      "id": "0d566e2f",
      "metadata": {
        "id": "0d566e2f"
      },
      "outputs": [],
      "source": [
        ""
      ]
    },
    {
      "cell_type": "markdown",
      "id": "a5f095f3",
      "metadata": {
        "id": "a5f095f3"
      },
      "source": [
        "__Testing the normality of MSFT Returns based on the sample (Oct 2014 to May 2021):__ <br>\n",
        "__-> Hypothesis Test with H0 Hypothesis: MSFT Returns (full population) follow a normal Distribution.__ "
      ]
    },
    {
      "cell_type": "code",
      "execution_count": null,
      "id": "c017f284",
      "metadata": {
        "id": "c017f284"
      },
      "outputs": [],
      "source": [
        "z_stat, p_value = stats.normaltest(msft.log_ret.dropna())"
      ]
    },
    {
      "cell_type": "code",
      "execution_count": null,
      "id": "ce0461c5",
      "metadata": {
        "id": "ce0461c5"
      },
      "outputs": [],
      "source": [
        "z_stat # high values -> reject H0"
      ]
    },
    {
      "cell_type": "code",
      "execution_count": null,
      "id": "78516f83",
      "metadata": {
        "id": "78516f83"
      },
      "outputs": [],
      "source": [
        "p_value # low values (close to zero) -> reject H0"
      ]
    },
    {
      "cell_type": "code",
      "execution_count": null,
      "id": "435ea9b9",
      "metadata": {
        "id": "435ea9b9"
      },
      "outputs": [],
      "source": [
        "round(p_value, 10)"
      ]
    },
    {
      "cell_type": "markdown",
      "id": "e368f4d0",
      "metadata": {
        "id": "e368f4d0"
      },
      "source": [
        "__-> Assuming that MSFT Returns (generally) follow a Normal Distribution, there is 0% probability that we get that extreme outcomes in a sample.__ "
      ]
    },
    {
      "cell_type": "markdown",
      "id": "19318eb4",
      "metadata": {
        "id": "19318eb4"
      },
      "source": [
        "__Take Home: MSFT Returns don´t follow a Normal Distribution as they exhibit \"Fat Tails\". Extreme Events/Outcomes are not reflected in the Mean-Variance Analysis. The Standard Deviation of Returns underestimates true Risk.__"
      ]
    },
    {
      "cell_type": "code",
      "execution_count": null,
      "id": "db50fcab",
      "metadata": {
        "id": "db50fcab"
      },
      "outputs": [],
      "source": [
        ""
      ]
    },
    {
      "cell_type": "markdown",
      "id": "a1efca54",
      "metadata": {
        "id": "a1efca54"
      },
      "source": [
        "## Annualizing Mean Return and Std of Returns"
      ]
    },
    {
      "cell_type": "code",
      "execution_count": null,
      "id": "48573467",
      "metadata": {
        "id": "48573467"
      },
      "outputs": [],
      "source": [
        "import pandas as pd\n",
        "import numpy as np\n",
        "import matplotlib.pyplot as plt\n",
        "pd.options.display.float_format = '{:.6f}'.format\n",
        "plt.style.use(\"seaborn\")"
      ]
    },
    {
      "cell_type": "code",
      "execution_count": null,
      "id": "0d79f085",
      "metadata": {
        "id": "0d79f085"
      },
      "outputs": [],
      "source": [
        "msft = pd.read_csv(\"msft.csv\", index_col = \"Date\", parse_dates = [\"Date\"], usecols = [\"Date\", \"Price\"])"
      ]
    },
    {
      "cell_type": "code",
      "execution_count": null,
      "id": "4b3144f6",
      "metadata": {
        "id": "4b3144f6"
      },
      "outputs": [],
      "source": [
        "msft"
      ]
    },
    {
      "cell_type": "code",
      "execution_count": null,
      "id": "9579f6bd",
      "metadata": {
        "id": "9579f6bd"
      },
      "outputs": [],
      "source": [
        "msft[\"log_ret\"] = np.log(msft.Price / msft.Price.shift())"
      ]
    },
    {
      "cell_type": "code",
      "execution_count": null,
      "id": "2a9e9408",
      "metadata": {
        "id": "2a9e9408"
      },
      "outputs": [],
      "source": [
        "msft.log_ret.agg([\"mean\", \"std\"]) # mean and std based on daily returns"
      ]
    },
    {
      "cell_type": "code",
      "execution_count": null,
      "id": "5c474c31",
      "metadata": {
        "id": "5c474c31"
      },
      "outputs": [],
      "source": [
        "ann_mu = msft.log_ret.mean() * 252 \n",
        "ann_mu"
      ]
    },
    {
      "cell_type": "code",
      "execution_count": null,
      "id": "657fbdc5",
      "metadata": {
        "id": "657fbdc5"
      },
      "outputs": [],
      "source": [
        "cagr = np.exp(ann_mu) - 1 # don´t mix up with cagr\n",
        "cagr"
      ]
    },
    {
      "cell_type": "code",
      "execution_count": null,
      "id": "9e9449d4",
      "metadata": {
        "id": "9e9449d4"
      },
      "outputs": [],
      "source": [
        "ann_std = msft.log_ret.std() * np.sqrt(252) \n",
        "ann_std"
      ]
    },
    {
      "cell_type": "code",
      "execution_count": null,
      "id": "6ec01979",
      "metadata": {
        "id": "6ec01979"
      },
      "outputs": [],
      "source": [
        "ann_std = np.sqrt(msft.log_ret.var() * 252) # annualized std of returns (Alt 2)\n",
        "ann_std"
      ]
    },
    {
      "cell_type": "code",
      "execution_count": null,
      "id": "85797853",
      "metadata": {
        "id": "85797853"
      },
      "outputs": [],
      "source": [
        ""
      ]
    },
    {
      "cell_type": "markdown",
      "id": "1b1d9e1d",
      "metadata": {
        "id": "1b1d9e1d"
      },
      "source": [
        "## Resampling / Smoothing"
      ]
    },
    {
      "cell_type": "code",
      "execution_count": null,
      "id": "011f3bcc",
      "metadata": {
        "id": "011f3bcc"
      },
      "outputs": [],
      "source": [
        "msft.Price.plot(figsize = (12, 8))\n",
        "plt.legend()\n",
        "plt.show()"
      ]
    },
    {
      "cell_type": "code",
      "execution_count": null,
      "id": "08fc5193",
      "metadata": {
        "id": "08fc5193"
      },
      "outputs": [],
      "source": [
        "monthly = msft.Price.resample(\"M\").last() ## resample to monthly (month end)\n",
        "monthly"
      ]
    },
    {
      "cell_type": "code",
      "execution_count": null,
      "id": "b2b442d2",
      "metadata": {
        "id": "b2b442d2"
      },
      "outputs": [],
      "source": [
        "monthly.plot(figsize = (12, 8))\n",
        "plt.legend()\n",
        "plt.show()"
      ]
    },
    {
      "cell_type": "markdown",
      "id": "54b0535e",
      "metadata": {
        "id": "54b0535e"
      },
      "source": [
        "__How will the Mean-Variance Analysis change with smoothed data?__"
      ]
    },
    {
      "cell_type": "code",
      "execution_count": null,
      "id": "674f0bfe",
      "metadata": {
        "id": "674f0bfe"
      },
      "outputs": [],
      "source": [
        "freqs = [\"A\", \"Q\", \"M\", \"W-Fri\", \"D\"]\n",
        "periods = [1, 4, 12, 52, 252]\n",
        "ann_mean = []\n",
        "ann_std = []"
      ]
    },
    {
      "cell_type": "code",
      "execution_count": null,
      "id": "1fa8554f",
      "metadata": {
        "id": "1fa8554f"
      },
      "outputs": [],
      "source": [
        "for i in range(5):\n",
        "    resamp = msft.Price.resample(freqs[i]).last() # resample\n",
        "    ann_mean.append(np.log(resamp / resamp.shift()).mean() * periods[i]) # calc. annualized mean\n",
        "    ann_std.append(np.log(resamp / resamp.shift()).std() * np.sqrt(periods[i])) # calc. annualized std"
      ]
    },
    {
      "cell_type": "code",
      "execution_count": null,
      "id": "b9b4fcae",
      "metadata": {
        "id": "b9b4fcae"
      },
      "outputs": [],
      "source": [
        "ann_mean"
      ]
    },
    {
      "cell_type": "code",
      "execution_count": null,
      "id": "21006017",
      "metadata": {
        "id": "21006017"
      },
      "outputs": [],
      "source": [
        "summary = pd.DataFrame(data = {\"ann_std\":ann_std, \"ann_mean\":ann_mean}, index = freqs)\n",
        "summary"
      ]
    },
    {
      "cell_type": "code",
      "execution_count": null,
      "id": "13778d53",
      "metadata": {
        "id": "13778d53"
      },
      "outputs": [],
      "source": [
        "summary.plot(kind = \"scatter\", x = \"ann_std\", y = \"ann_mean\", figsize = (15,12), s = 50, fontsize = 15)\n",
        "for i in summary.index:\n",
        "    plt.annotate(i, xy=(summary.loc[i, \"ann_std\"]+0.001, summary.loc[i, \"ann_mean\"]+0.001), size = 15)\n",
        "plt.ylim(0, 0.3)\n",
        "plt.xlabel(\"ann. Risk(std)\", fontsize = 15)\n",
        "plt.ylabel(\"ann. Return\", fontsize = 15)\n",
        "plt.title(\"Risk/Return\", fontsize = 20)\n",
        "plt.show()"
      ]
    },
    {
      "cell_type": "markdown",
      "id": "de6c42b0",
      "metadata": {
        "id": "de6c42b0"
      },
      "source": [
        "__-> Smoothing reduces (observed) Risk__. "
      ]
    },
    {
      "cell_type": "markdown",
      "id": "c8e16920",
      "metadata": {
        "id": "c8e16920"
      },
      "source": [
        "Dubious practices:\n",
        "- Managing (Manipulating) Performance in Performance Reportings.\n",
        "- Comparing assets with different granularity and pricing mechanisms -> e.g. non-listed (alternative assets) vs. listed assets \n",
        "- Adjusting granularity to investor´s (average) holding period -> Volatility is still there."
      ]
    },
    {
      "cell_type": "code",
      "execution_count": null,
      "id": "88b327d3",
      "metadata": {
        "id": "88b327d3"
      },
      "outputs": [],
      "source": [
        ""
      ]
    },
    {
      "cell_type": "markdown",
      "id": "79664c0c",
      "metadata": {
        "id": "79664c0c"
      },
      "source": [
        "## Rolling Statistics"
      ]
    },
    {
      "cell_type": "markdown",
      "id": "e0cc78b5",
      "metadata": {
        "id": "e0cc78b5"
      },
      "source": [
        "__(Another) general Rule in Finance/Investing: Past performance is not an indicator of future performance__."
      ]
    },
    {
      "cell_type": "code",
      "execution_count": null,
      "id": "5b2c5f5e",
      "metadata": {
        "id": "5b2c5f5e"
      },
      "outputs": [],
      "source": [
        "msft"
      ]
    },
    {
      "cell_type": "code",
      "execution_count": null,
      "id": "57aca39b",
      "metadata": {
        "id": "57aca39b"
      },
      "outputs": [],
      "source": [
        "ann_mu = msft.log_ret.mean() * 252 # annualized mean return\n",
        "ann_mu"
      ]
    },
    {
      "cell_type": "code",
      "execution_count": null,
      "id": "2cd35648",
      "metadata": {
        "id": "2cd35648"
      },
      "outputs": [],
      "source": [
        "ann_std = msft.log_ret.std() * np.sqrt(252) # annualized std of returns (Alt 1)\n",
        "ann_std"
      ]
    },
    {
      "cell_type": "markdown",
      "id": "fade509a",
      "metadata": {
        "id": "fade509a"
      },
      "source": [
        "__Are Return and Risk constant over time? No, of course not! They change over time.__"
      ]
    },
    {
      "cell_type": "markdown",
      "id": "4249b6e5",
      "metadata": {
        "id": "4249b6e5"
      },
      "source": [
        "__Let´s measure/quantify this with rolling statistics!__"
      ]
    },
    {
      "cell_type": "code",
      "execution_count": null,
      "id": "ff0a7754",
      "metadata": {
        "id": "ff0a7754"
      },
      "outputs": [],
      "source": [
        "window = 252 # rolling window 252 trading days (~ 1 Year)"
      ]
    },
    {
      "cell_type": "code",
      "execution_count": null,
      "id": "43799b82",
      "metadata": {
        "id": "43799b82"
      },
      "outputs": [],
      "source": [
        "msft.log_ret.rolling(window = 252)"
      ]
    },
    {
      "cell_type": "code",
      "execution_count": null,
      "id": "70f8b5c8",
      "metadata": {
        "id": "70f8b5c8"
      },
      "outputs": [],
      "source": [
        "msft.log_ret.rolling(window = 252).sum() # Alt 1"
      ]
    },
    {
      "cell_type": "code",
      "execution_count": null,
      "id": "514392a0",
      "metadata": {
        "id": "514392a0"
      },
      "outputs": [],
      "source": [
        "roll_mean = msft.log_ret.rolling(window = 252).mean() * 252 # Alt 2\n",
        "roll_mean"
      ]
    },
    {
      "cell_type": "code",
      "execution_count": null,
      "id": "21ef3ad9",
      "metadata": {
        "id": "21ef3ad9"
      },
      "outputs": [],
      "source": [
        "roll_mean.iloc[250:]"
      ]
    },
    {
      "cell_type": "code",
      "execution_count": null,
      "id": "754483f4",
      "metadata": {
        "id": "754483f4"
      },
      "outputs": [],
      "source": [
        "roll_mean.plot(figsize = (12, 8))\n",
        "plt.show()"
      ]
    },
    {
      "cell_type": "code",
      "execution_count": null,
      "id": "2bdff238",
      "metadata": {
        "id": "2bdff238"
      },
      "outputs": [],
      "source": [
        "roll_std = msft.log_ret.rolling(window = 252).std() * np.sqrt(252)\n",
        "roll_std"
      ]
    },
    {
      "cell_type": "code",
      "execution_count": null,
      "id": "e3ae40ce",
      "metadata": {
        "id": "e3ae40ce"
      },
      "outputs": [],
      "source": [
        "roll_std.plot(figsize = (12, 8))\n",
        "plt.show()"
      ]
    },
    {
      "cell_type": "code",
      "execution_count": null,
      "id": "fa4d7119",
      "metadata": {
        "id": "fa4d7119"
      },
      "outputs": [],
      "source": [
        "roll_mean.plot(figsize = (12, 8))\n",
        "roll_std.plot()\n",
        "plt.show()"
      ]
    },
    {
      "cell_type": "markdown",
      "id": "92f475b9",
      "metadata": {
        "id": "92f475b9"
      },
      "source": [
        "__Take Home__: Be careful, you´ll always find (sub-)periods with __low returns & high risk__ and __high returns & low risk__. "
      ]
    },
    {
      "cell_type": "markdown",
      "id": "f6656322",
      "metadata": {
        "id": "f6656322"
      },
      "source": [
        "- Analysis Period must be __sufficiently long__ to reduce impact of random noise. <br>\n",
        "- Analysis Period should be __as short as possible__ and should only include the __latest trends / regimes__.\n",
        "- Commonly used reporting period: __3 Years / 36 Months__"
      ]
    },
    {
      "cell_type": "markdown",
      "id": "8f2fd353",
      "metadata": {
        "id": "8f2fd353"
      },
      "source": [
        "__Another Example: Simple Moving Average (Prices) - SMA__"
      ]
    },
    {
      "cell_type": "code",
      "execution_count": null,
      "id": "c68c9001",
      "metadata": {
        "id": "c68c9001"
      },
      "outputs": [],
      "source": [
        "sma_window = 50"
      ]
    },
    {
      "cell_type": "code",
      "execution_count": null,
      "id": "55187bd8",
      "metadata": {
        "id": "55187bd8"
      },
      "outputs": [],
      "source": [
        "msft.Price.plot(figsize = (12, 8))\n",
        "msft.Price.rolling(sma_window).mean().plot()\n",
        "plt.show()"
      ]
    },
    {
      "cell_type": "code",
      "execution_count": null,
      "id": "4f4a4559",
      "metadata": {
        "id": "4f4a4559"
      },
      "outputs": [],
      "source": [
        ""
      ]
    },
    {
      "cell_type": "markdown",
      "id": "b1bef586",
      "metadata": {
        "id": "b1bef586"
      },
      "source": [
        "--------------------------------------------"
      ]
    },
    {
      "cell_type": "markdown",
      "id": "d9a671cf",
      "metadata": {
        "id": "d9a671cf"
      },
      "source": [
        "__Coding Challenge #5__"
      ]
    },
    {
      "cell_type": "markdown",
      "id": "fa7b5c75",
      "metadata": {
        "id": "fa7b5c75"
      },
      "source": [
        "1. Calculate daily log returns for Boeing.\n",
        "\n",
        "2. Use Boeing´s daily log returns to calculate the annualized mean and annualized std (assume 252 trading days per year).\n",
        "\n",
        "3. Resample to monthly prices and compare the annualized std (monthly) with the annualized std (daily). Any differences?\n",
        "\n",
        "4. Keep working with monthly data and calculate/visualize the rolling 36 months mean return (annualized)."
      ]
    },
    {
      "cell_type": "markdown",
      "id": "c5f5af66",
      "metadata": {
        "id": "c5f5af66"
      },
      "source": [
        "---------------------------------------------"
      ]
    },
    {
      "cell_type": "code",
      "execution_count": null,
      "id": "63849fad",
      "metadata": {
        "id": "63849fad"
      },
      "outputs": [],
      "source": [
        ""
      ]
    },
    {
      "cell_type": "markdown",
      "id": "8346ef58",
      "metadata": {
        "id": "8346ef58"
      },
      "source": [
        "## Short Selling / Short Positions (Part 1)"
      ]
    },
    {
      "cell_type": "markdown",
      "id": "82987a01",
      "metadata": {
        "id": "82987a01"
      },
      "source": [
        "What´s the rational behind short selling an instrument? <br>\n",
        "__-> making profits/positive returns when prices fall.__"
      ]
    },
    {
      "cell_type": "markdown",
      "id": "576c3041",
      "metadata": {
        "id": "576c3041"
      },
      "source": [
        "__Stocks Example:__"
      ]
    },
    {
      "cell_type": "markdown",
      "id": "a64d7598",
      "metadata": {
        "id": "a64d7598"
      },
      "source": [
        "Today an Investor __buys__ the ABC Stock for USD 100. One day later he __sells__ the stock for USD 110. <br> \n",
        "__-> Profit: USD 10__ <br>\n",
        "->__Long Position__ (benefit from rising prices):"
      ]
    },
    {
      "cell_type": "markdown",
      "id": "c463120a",
      "metadata": {
        "id": "c463120a"
      },
      "source": [
        "Today an Investor __borrows__ the ABC Stock from another Investor and __sells__ it for USD 100. One day later he __buys__ the stock for USD 90 and __returns__ it to the lender.<br>\n",
        "__-> Profit: USD 10__  <br>\n",
        "->__Short Position__ (benefit from falling prices):"
      ]
    },
    {
      "cell_type": "markdown",
      "id": "c82b4639",
      "metadata": {
        "id": "c82b4639"
      },
      "source": [
        "In some countries (and for some instruments like stocks) short selling is prohibited. <br>\n",
        "Most intuitive/popular use case for short selling: __Currencies (Forex)__"
      ]
    },
    {
      "cell_type": "code",
      "execution_count": null,
      "id": "77d79a46",
      "metadata": {
        "id": "77d79a46"
      },
      "outputs": [],
      "source": [
        ""
      ]
    },
    {
      "cell_type": "markdown",
      "id": "8db012e2",
      "metadata": {
        "id": "8db012e2"
      },
      "source": [
        "## Short Selling / Short Positions (Part 2)"
      ]
    },
    {
      "cell_type": "markdown",
      "id": "b09d3d71",
      "metadata": {
        "id": "b09d3d71"
      },
      "source": [
        "__EUR/USD__ (\"Long Euro\" == \"Short USD\")"
      ]
    },
    {
      "cell_type": "code",
      "execution_count": null,
      "id": "2f00f156",
      "metadata": {
        "id": "2f00f156"
      },
      "outputs": [],
      "source": [
        "t0 = 1.10\n",
        "t1 = 1.25"
      ]
    },
    {
      "cell_type": "markdown",
      "id": "e2fe1b3a",
      "metadata": {
        "id": "e2fe1b3a"
      },
      "source": [
        "Today an Investor __buys__ EUR 1 and pays USD 1.10. One day later he __sells__ EUR 1 for USD 1.25 <br>\n",
        "__-> Profit: USD 0.15__  <br>\n",
        "->__Long Position Euro__ (benefit from rising EUR prices):"
      ]
    },
    {
      "cell_type": "code",
      "execution_count": null,
      "id": "7c8e6ac7",
      "metadata": {
        "id": "7c8e6ac7"
      },
      "outputs": [],
      "source": [
        "t1 / t0 - 1 # The EUR appreciates by 13.64% relative to USD (simple return)"
      ]
    },
    {
      "cell_type": "markdown",
      "id": "e7f468ad",
      "metadata": {
        "id": "e7f468ad"
      },
      "source": [
        "-> EUR __Long__ Position returns __+13.64%__ (simple return) "
      ]
    },
    {
      "cell_type": "markdown",
      "id": "085ac6a7",
      "metadata": {
        "id": "085ac6a7"
      },
      "source": [
        "What return would you expect for the corresponding EUR __Short__ position? That´s a \"no brainer\": __-13.64%__, right? "
      ]
    },
    {
      "cell_type": "markdown",
      "id": "2279597f",
      "metadata": {
        "id": "2279597f"
      },
      "source": [
        "__Surprisingly, that´s incorrect!!!__"
      ]
    },
    {
      "cell_type": "code",
      "execution_count": null,
      "id": "cc82eb85",
      "metadata": {
        "id": "cc82eb85"
      },
      "outputs": [],
      "source": [
        ""
      ]
    },
    {
      "cell_type": "markdown",
      "id": "b70bd922",
      "metadata": {
        "id": "b70bd922"
      },
      "source": [
        "Inverse Rate: __USD/EUR__ (\"Short Euro\" == \"Long USD\")"
      ]
    },
    {
      "cell_type": "code",
      "execution_count": null,
      "id": "8d470416",
      "metadata": {
        "id": "8d470416"
      },
      "outputs": [],
      "source": [
        "t0 = 1 / 1.10\n",
        "t1 = 1 / 1.25"
      ]
    },
    {
      "cell_type": "code",
      "execution_count": null,
      "id": "55371bba",
      "metadata": {
        "id": "55371bba"
      },
      "outputs": [],
      "source": [
        "print(t0, t1)"
      ]
    },
    {
      "cell_type": "markdown",
      "id": "6c880408",
      "metadata": {
        "id": "6c880408"
      },
      "source": [
        "Today an Investor __buys__ USD 1 and pays 0.9091 Euro. One day later he __sells__ USD 1 for EUR 0.8 __<br>\n",
        "-> Loss: EUR 0.1091__  <br>"
      ]
    },
    {
      "cell_type": "code",
      "execution_count": null,
      "id": "38df904d",
      "metadata": {
        "id": "38df904d"
      },
      "outputs": [],
      "source": [
        "t1 / t0 - 1 # The USD depreciates by 12.0% relative to EUR"
      ]
    },
    {
      "cell_type": "markdown",
      "id": "5bf61aa5",
      "metadata": {
        "id": "5bf61aa5"
      },
      "source": [
        "-> EUR __Short__ Position returns __-12.0%__ (simple return)"
      ]
    },
    {
      "cell_type": "markdown",
      "id": "1fee9e1d",
      "metadata": {
        "id": "1fee9e1d"
      },
      "source": [
        "__Take Home: When using simple returns, long position return != short position return * (-1)__ <br>\n",
        "__-> Use log returns!__"
      ]
    },
    {
      "cell_type": "code",
      "execution_count": null,
      "id": "218ce9b7",
      "metadata": {
        "id": "218ce9b7"
      },
      "outputs": [],
      "source": [
        ""
      ]
    },
    {
      "cell_type": "markdown",
      "id": "5d5485db",
      "metadata": {
        "id": "5d5485db"
      },
      "source": [
        "## Short Selling / Short Positions (Part 3)"
      ]
    },
    {
      "cell_type": "code",
      "execution_count": null,
      "id": "bfa716c8",
      "metadata": {
        "id": "bfa716c8"
      },
      "outputs": [],
      "source": [
        "import pandas as pd\n",
        "import numpy as np\n",
        "import matplotlib.pyplot as plt\n",
        "pd.options.display.float_format = '{:.6f}'.format\n",
        "plt.style.use(\"seaborn\")"
      ]
    },
    {
      "cell_type": "code",
      "execution_count": null,
      "id": "6943db4a",
      "metadata": {
        "id": "6943db4a"
      },
      "outputs": [],
      "source": [
        "close = pd.read_csv(\"close.csv\", index_col = \"Date\", parse_dates = [\"Date\"])\n",
        "close"
      ]
    },
    {
      "cell_type": "code",
      "execution_count": null,
      "id": "676ca33e",
      "metadata": {
        "id": "676ca33e"
      },
      "outputs": [],
      "source": [
        "close[\"USDEUR=X\"] = 1/close[\"EURUSD=X\"]"
      ]
    },
    {
      "cell_type": "code",
      "execution_count": null,
      "id": "6ec4577c",
      "metadata": {
        "id": "6ec4577c"
      },
      "outputs": [],
      "source": [
        "close"
      ]
    },
    {
      "cell_type": "code",
      "execution_count": null,
      "id": "ace97635",
      "metadata": {
        "id": "ace97635"
      },
      "outputs": [],
      "source": [
        "fx = close[[\"EURUSD=X\", \"USDEUR=X\"]].dropna().copy()"
      ]
    },
    {
      "cell_type": "code",
      "execution_count": null,
      "id": "067e7984",
      "metadata": {
        "id": "067e7984"
      },
      "outputs": [],
      "source": [
        "fx"
      ]
    },
    {
      "cell_type": "code",
      "execution_count": null,
      "id": "ddc89855",
      "metadata": {
        "id": "ddc89855"
      },
      "outputs": [],
      "source": [
        "fx.plot(figsize = (12,8), fontsize = 13)\n",
        "plt.legend(fontsize = 13)\n",
        "plt.show()"
      ]
    },
    {
      "cell_type": "code",
      "execution_count": null,
      "id": "d6f970d8",
      "metadata": {
        "id": "d6f970d8"
      },
      "outputs": [],
      "source": [
        "simple_ret = fx.pct_change() # simple returns\n",
        "simple_ret"
      ]
    },
    {
      "cell_type": "code",
      "execution_count": null,
      "id": "566d2668",
      "metadata": {
        "id": "566d2668"
      },
      "outputs": [],
      "source": [
        "simple_ret.add(1).prod() - 1 # compound simple returns"
      ]
    },
    {
      "cell_type": "markdown",
      "id": "4f5612b5",
      "metadata": {
        "id": "4f5612b5"
      },
      "source": [
        "__-> For simple returns: long position returns != short position returns * (-1)__"
      ]
    },
    {
      "cell_type": "code",
      "execution_count": null,
      "id": "57b05553",
      "metadata": {
        "id": "57b05553"
      },
      "outputs": [],
      "source": [
        "log_ret = np.log(fx / fx.shift()) # log returns\n",
        "log_ret"
      ]
    },
    {
      "cell_type": "code",
      "execution_count": null,
      "id": "7b786eb8",
      "metadata": {
        "id": "7b786eb8"
      },
      "outputs": [],
      "source": [
        "log_ret.sum() # cumulative log returns"
      ]
    },
    {
      "cell_type": "markdown",
      "id": "91ddfaa1",
      "metadata": {
        "id": "91ddfaa1"
      },
      "source": [
        "__-> For log returns: long position returns == short position returns * (-1)__"
      ]
    },
    {
      "cell_type": "code",
      "execution_count": null,
      "id": "35d43416",
      "metadata": {
        "id": "35d43416"
      },
      "outputs": [],
      "source": [
        "norm_fx = log_ret.cumsum().apply(np.exp) # normalized prices (Base 1)\n",
        "norm_fx"
      ]
    },
    {
      "cell_type": "code",
      "execution_count": null,
      "id": "7fca5ed0",
      "metadata": {
        "id": "7fca5ed0"
      },
      "outputs": [],
      "source": [
        "norm_fx.iloc[0] = [1, 1]"
      ]
    },
    {
      "cell_type": "code",
      "execution_count": null,
      "id": "c2c26e4b",
      "metadata": {
        "id": "c2c26e4b"
      },
      "outputs": [],
      "source": [
        "norm_fx"
      ]
    },
    {
      "cell_type": "code",
      "execution_count": null,
      "id": "d0c27767",
      "metadata": {
        "id": "d0c27767"
      },
      "outputs": [],
      "source": [
        "norm_fx.plot(figsize = (12,8), fontsize = 13)\n",
        "plt.legend(fontsize = 13)\n",
        "plt.show()"
      ]
    },
    {
      "cell_type": "code",
      "execution_count": null,
      "id": "a1b2a767",
      "metadata": {
        "id": "a1b2a767"
      },
      "outputs": [],
      "source": [
        ""
      ]
    },
    {
      "cell_type": "markdown",
      "id": "9ed022d5",
      "metadata": {
        "id": "9ed022d5"
      },
      "source": [
        "--------------------------------------------"
      ]
    },
    {
      "cell_type": "markdown",
      "id": "cf21f249",
      "metadata": {
        "id": "cf21f249"
      },
      "source": [
        "__Coding Challenge #6__"
      ]
    },
    {
      "cell_type": "markdown",
      "id": "ce3409fc",
      "metadata": {
        "id": "ce3409fc"
      },
      "source": [
        "1. Calculate daily log returns for Boeing.\n",
        "\n",
        "2. Calculate the annualized mean and annualized std (assume 252 trading days per year) for a short position in Boeing (ignore Trading and Borrowing Costs)."
      ]
    },
    {
      "cell_type": "markdown",
      "id": "e186bffe",
      "metadata": {
        "id": "e186bffe"
      },
      "source": [
        "---------------------------------------------"
      ]
    },
    {
      "cell_type": "code",
      "execution_count": null,
      "id": "10489de9",
      "metadata": {
        "id": "10489de9"
      },
      "outputs": [],
      "source": [
        ""
      ]
    },
    {
      "cell_type": "markdown",
      "id": "7e90f89c",
      "metadata": {
        "id": "7e90f89c"
      },
      "source": [
        "## Covariance and Correlation"
      ]
    },
    {
      "cell_type": "markdown",
      "id": "8e19f137",
      "metadata": {
        "id": "8e19f137"
      },
      "source": [
        "Do instruments/assets __move together__ (and to what extent)? <br>\n",
        "\n",
        "Three cases:\n",
        "- unrelated (__no__ relationship/correlation)\n",
        "- moving together (__positive__ relationship/correlation)\n",
        "- moving in opposite directions (__negative__ relationship/correlation) "
      ]
    },
    {
      "cell_type": "markdown",
      "id": "dd2e87dc",
      "metadata": {
        "id": "dd2e87dc"
      },
      "source": [
        "__-> Correlation between instruments/assets play an important role in portfolio management.__"
      ]
    },
    {
      "cell_type": "code",
      "execution_count": null,
      "id": "f0025956",
      "metadata": {
        "id": "f0025956"
      },
      "outputs": [],
      "source": [
        "import pandas as pd\n",
        "import numpy as np\n",
        "pd.options.display.float_format = '{:.4f}'.format\n",
        "import matplotlib.pyplot as plt\n",
        "plt.style.use(\"seaborn\")"
      ]
    },
    {
      "cell_type": "code",
      "execution_count": null,
      "id": "3ab21e16",
      "metadata": {
        "id": "3ab21e16"
      },
      "outputs": [],
      "source": [
        "close = pd.read_csv(\"close.csv\", index_col = \"Date\", parse_dates = [\"Date\"])\n",
        "close"
      ]
    },
    {
      "cell_type": "code",
      "execution_count": null,
      "id": "9c3c1c36",
      "metadata": {
        "id": "9c3c1c36"
      },
      "outputs": [],
      "source": [
        "close[\"USDEUR=X\"] = 1/close[\"EURUSD=X\"]\n",
        "close"
      ]
    },
    {
      "cell_type": "code",
      "execution_count": null,
      "id": "f8502148",
      "metadata": {
        "id": "f8502148"
      },
      "outputs": [],
      "source": [
        "returns = close.apply(lambda x: np.log(x.dropna() / x.dropna().shift()))\n",
        "returns"
      ]
    },
    {
      "cell_type": "code",
      "execution_count": null,
      "id": "dc7993fd",
      "metadata": {
        "id": "dc7993fd"
      },
      "outputs": [],
      "source": [
        "returns.cov() # covariance (hard to interpret)"
      ]
    },
    {
      "cell_type": "code",
      "execution_count": null,
      "id": "15caf37f",
      "metadata": {
        "id": "15caf37f"
      },
      "outputs": [],
      "source": [
        "returns.corr() # correlation coefficient (easy to interpret)"
      ]
    },
    {
      "cell_type": "markdown",
      "id": "162a25f7",
      "metadata": {
        "id": "162a25f7"
      },
      "source": [
        "Three cases:\n",
        "- no correlation: __correlation coefficient == 0__\n",
        "- moving together: __0 < correlation coefficient <= 1__ (positive)\n",
        "- moving in opposite directions: __-1 <= correlation coefficient < 0__ (negative)"
      ]
    },
    {
      "cell_type": "code",
      "execution_count": null,
      "id": "bde11c1f",
      "metadata": {
        "id": "bde11c1f"
      },
      "outputs": [],
      "source": [
        "import seaborn as sns"
      ]
    },
    {
      "cell_type": "code",
      "execution_count": null,
      "id": "c281faae",
      "metadata": {
        "id": "c281faae"
      },
      "outputs": [],
      "source": [
        "plt.figure(figsize=(12,8))\n",
        "sns.set(font_scale=1.4)\n",
        "sns.heatmap(returns.corr(), cmap = \"RdYlBu_r\", annot = True, annot_kws={\"size\":15}, vmin = -1, vmax = 1)\n",
        "plt.show()"
      ]
    },
    {
      "cell_type": "markdown",
      "id": "8e85e4e4",
      "metadata": {
        "id": "8e85e4e4"
      },
      "source": [
        "__Take Home: Similar assets are (highly) positive correlated. Different assets exhibit low/no/negative correlation.__ <br>\n",
        "-> In portfolio management it´s beneficial to have assets with low/no/negative correlation (portfolio diversification effect)."
      ]
    },
    {
      "cell_type": "code",
      "execution_count": null,
      "id": "b83618c9",
      "metadata": {
        "id": "b83618c9"
      },
      "outputs": [],
      "source": [
        ""
      ]
    },
    {
      "cell_type": "markdown",
      "id": "d10aa0f1",
      "metadata": {
        "id": "d10aa0f1"
      },
      "source": [
        "## Portfolio of Assets and Portfolio Returns"
      ]
    },
    {
      "cell_type": "code",
      "execution_count": null,
      "id": "f79bbd8a",
      "metadata": {
        "id": "f79bbd8a"
      },
      "outputs": [],
      "source": [
        "import pandas as pd\n",
        "import numpy as np"
      ]
    },
    {
      "cell_type": "code",
      "execution_count": null,
      "id": "6890be7a",
      "metadata": {
        "id": "6890be7a"
      },
      "outputs": [],
      "source": [
        "prices = pd.DataFrame(data = {\"Asset_A\": [100, 112], \"Asset_B\":[100, 104]}, index = [0, 1])\n",
        "prices"
      ]
    },
    {
      "cell_type": "code",
      "execution_count": null,
      "id": "ed5c96d7",
      "metadata": {
        "id": "ed5c96d7"
      },
      "outputs": [],
      "source": [
        "prices[\"Total\"] = prices.Asset_A + prices.Asset_B"
      ]
    },
    {
      "cell_type": "code",
      "execution_count": null,
      "id": "75e30f04",
      "metadata": {
        "id": "75e30f04"
      },
      "outputs": [],
      "source": [
        "prices"
      ]
    },
    {
      "cell_type": "code",
      "execution_count": null,
      "id": "ea29ceed",
      "metadata": {
        "id": "ea29ceed"
      },
      "outputs": [],
      "source": [
        "returns = prices.pct_change() # simple returns\n",
        "returns"
      ]
    },
    {
      "cell_type": "code",
      "execution_count": null,
      "id": "fc6a9283",
      "metadata": {
        "id": "fc6a9283"
      },
      "outputs": [],
      "source": [
        "0.5 * 0.12 + 0.5 * 0.04 # correct (portfolio return == weighted average of simple returns)"
      ]
    },
    {
      "cell_type": "code",
      "execution_count": null,
      "id": "81f48cb0",
      "metadata": {
        "id": "81f48cb0"
      },
      "outputs": [],
      "source": [
        "log_returns = np.log(prices / prices.shift()) # log returns\n",
        "log_returns"
      ]
    },
    {
      "cell_type": "code",
      "execution_count": null,
      "id": "69a5f99f",
      "metadata": {
        "id": "69a5f99f"
      },
      "outputs": [],
      "source": [
        "0.5 * log_returns.iloc[1,0] + 0.5 * log_returns.iloc[1,1] # incorrect (portfolio return != weighted average of log returns)"
      ]
    },
    {
      "cell_type": "markdown",
      "id": "9d27eb46",
      "metadata": {
        "id": "9d27eb46"
      },
      "source": [
        "__Take Home: While log returns are time-additive, they are not asset-additive.__ <br>\n",
        "(While simple returns are not time-additive, they are asset-additive.)"
      ]
    },
    {
      "cell_type": "code",
      "execution_count": null,
      "id": "8cb0a355",
      "metadata": {
        "id": "8cb0a355"
      },
      "outputs": [],
      "source": [
        ""
      ]
    },
    {
      "cell_type": "markdown",
      "id": "e71f16b9",
      "metadata": {
        "id": "e71f16b9"
      },
      "source": [
        "## Margin Trading & Levered Returns (Part 1)"
      ]
    },
    {
      "cell_type": "markdown",
      "id": "2e88160c",
      "metadata": {
        "id": "2e88160c"
      },
      "source": [
        "__Definition__: \"Margin trading refers to the practice of using __borrowed funds__ from a broker to trade a financial asset, which forms the collateral for the loan from the broker.\" (Investopedia.com) "
      ]
    },
    {
      "cell_type": "markdown",
      "id": "a70c794c",
      "metadata": {
        "id": "a70c794c"
      },
      "source": [
        "In Simple Words: Investors __don´t pay the full price__ but they get the full benefit (less borrowing costs)."
      ]
    },
    {
      "cell_type": "markdown",
      "id": "e0a8bf96",
      "metadata": {
        "id": "e0a8bf96"
      },
      "source": [
        "It´s a two edged sword: Leverage __amplifies both gains and losses__. <br> In the event of a loss, the collateral gets reduced and the Investor either posts additional margin or the brokers closes the position."
      ]
    },
    {
      "cell_type": "markdown",
      "id": "746f4aad",
      "metadata": {
        "id": "746f4aad"
      },
      "source": [
        "__Example__"
      ]
    },
    {
      "cell_type": "markdown",
      "id": "16e5d162",
      "metadata": {
        "id": "16e5d162"
      },
      "source": [
        "A Trader buys a stock (stock price: 100) __on margin (50%)__. After one day the price increases to 110.<br>\n",
        "Calculate __unlevered return__ and __levered return__."
      ]
    },
    {
      "cell_type": "code",
      "execution_count": null,
      "id": "cc5ba735",
      "metadata": {
        "id": "cc5ba735"
      },
      "outputs": [],
      "source": [
        "P0 = 100\n",
        "P1 = 110\n",
        "leverage = 2\n",
        "margin = P0/2"
      ]
    },
    {
      "cell_type": "code",
      "execution_count": null,
      "id": "6faa4790",
      "metadata": {
        "id": "6faa4790"
      },
      "outputs": [],
      "source": [
        "margin"
      ]
    },
    {
      "cell_type": "code",
      "execution_count": null,
      "id": "1333aa39",
      "metadata": {
        "id": "1333aa39"
      },
      "outputs": [],
      "source": [
        "unlev_return = (P1 - P0) / P0 # simple return\n",
        "unlev_return"
      ]
    },
    {
      "cell_type": "code",
      "execution_count": null,
      "id": "594bd3e6",
      "metadata": {
        "id": "594bd3e6"
      },
      "outputs": [],
      "source": [
        "lev_return = (P1 - P0) / margin # simple return \n",
        "lev_return"
      ]
    },
    {
      "cell_type": "code",
      "execution_count": null,
      "id": "1fd2ad80",
      "metadata": {
        "id": "1fd2ad80"
      },
      "outputs": [],
      "source": [
        "lev_return == unlev_return * leverage # this relationship is true for simple returns..."
      ]
    },
    {
      "cell_type": "code",
      "execution_count": null,
      "id": "9ed32cd5",
      "metadata": {
        "id": "9ed32cd5"
      },
      "outputs": [],
      "source": [
        "unlev_return = np.log((P1 - P0) / P0 + 1) # log return\n",
        "unlev_return"
      ]
    },
    {
      "cell_type": "code",
      "execution_count": null,
      "id": "c147a8aa",
      "metadata": {
        "id": "c147a8aa"
      },
      "outputs": [],
      "source": [
        "lev_return = np.log((P1 - P0) / margin + 1) # log return\n",
        "lev_return"
      ]
    },
    {
      "cell_type": "code",
      "execution_count": null,
      "id": "73881b7b",
      "metadata": {
        "scrolled": true,
        "id": "73881b7b"
      },
      "outputs": [],
      "source": [
        "lev_return == unlev_return * leverage # this relationship does not hold for log returns..."
      ]
    },
    {
      "cell_type": "markdown",
      "id": "1707e9db",
      "metadata": {
        "id": "1707e9db"
      },
      "source": [
        "__Take Home: To calculate levered returns, don´t multiply leverage with log returns!__"
      ]
    },
    {
      "cell_type": "code",
      "execution_count": null,
      "id": "66928ffb",
      "metadata": {
        "id": "66928ffb"
      },
      "outputs": [],
      "source": [
        ""
      ]
    },
    {
      "cell_type": "markdown",
      "id": "63baa682",
      "metadata": {
        "id": "63baa682"
      },
      "source": [
        "## Margin Trading & Levered Returns (Part 2)"
      ]
    },
    {
      "cell_type": "markdown",
      "id": "da4e088c",
      "metadata": {
        "id": "da4e088c"
      },
      "source": [
        "__Hypothesis: For (highly) profitable Investment: The more leverage, the better?__"
      ]
    },
    {
      "cell_type": "code",
      "execution_count": null,
      "id": "bd1ffd56",
      "metadata": {
        "id": "bd1ffd56"
      },
      "outputs": [],
      "source": [
        "import pandas as pd\n",
        "import numpy as np\n",
        "pd.options.display.float_format = '{:.4f}'.format\n",
        "import matplotlib.pyplot as plt\n",
        "plt.style.use(\"seaborn\")"
      ]
    },
    {
      "cell_type": "code",
      "execution_count": null,
      "id": "5d639f24",
      "metadata": {
        "id": "5d639f24"
      },
      "outputs": [],
      "source": [
        "msft = pd.read_csv(\"msft.csv\", index_col = \"Date\", parse_dates = [\"Date\"])\n",
        "msft"
      ]
    },
    {
      "cell_type": "code",
      "execution_count": null,
      "id": "0c55b20b",
      "metadata": {
        "id": "0c55b20b"
      },
      "outputs": [],
      "source": [
        "msft[\"Simple_Ret\"] = msft.Price.pct_change() # simple returns"
      ]
    },
    {
      "cell_type": "code",
      "execution_count": null,
      "id": "8ccde2b3",
      "metadata": {
        "id": "8ccde2b3"
      },
      "outputs": [],
      "source": [
        "leverage = 2"
      ]
    },
    {
      "cell_type": "markdown",
      "id": "72704910",
      "metadata": {
        "id": "72704910"
      },
      "source": [
        "(Simplified) __Assumptions__:\n",
        "- Restore leverage on a daily basis (by buying/selling shares)\n",
        "- no trading costs\n",
        "- no borrowing costs"
      ]
    },
    {
      "cell_type": "code",
      "execution_count": null,
      "id": "901b3aa1",
      "metadata": {
        "id": "901b3aa1"
      },
      "outputs": [],
      "source": [
        "msft[\"Lev_Returns\"] = msft.Returns.mul(leverage) # levered simple returns\n",
        "msft"
      ]
    },
    {
      "cell_type": "code",
      "execution_count": null,
      "id": "cf0c4ebe",
      "metadata": {
        "id": "cf0c4ebe"
      },
      "outputs": [],
      "source": [
        "msft[\"Lev_Returns\"] = np.where(msft[\"Lev_Returns\"] < -1, -1, msft[\"Lev_Returns\"])"
      ]
    },
    {
      "cell_type": "code",
      "execution_count": null,
      "id": "158a959c",
      "metadata": {
        "id": "158a959c"
      },
      "outputs": [],
      "source": [
        "msft"
      ]
    },
    {
      "cell_type": "code",
      "execution_count": null,
      "id": "918db0aa",
      "metadata": {
        "id": "918db0aa"
      },
      "outputs": [],
      "source": [
        "msft[[\"Returns\", \"Lev_Returns\"]].add(1).cumprod().plot(figsize = (15, 8), fontsize = 13)\n",
        "plt.legend(fontsize = 13)\n",
        "plt.show()"
      ]
    },
    {
      "cell_type": "code",
      "execution_count": null,
      "id": "a0b84d5e",
      "metadata": {
        "id": "a0b84d5e"
      },
      "outputs": [],
      "source": [
        "msft.Simple_Ret.max()"
      ]
    },
    {
      "cell_type": "code",
      "execution_count": null,
      "id": "fac25a57",
      "metadata": {
        "id": "fac25a57"
      },
      "outputs": [],
      "source": [
        "msft.Lev_Returns.max()"
      ]
    },
    {
      "cell_type": "code",
      "execution_count": null,
      "id": "8792eef4",
      "metadata": {
        "id": "8792eef4"
      },
      "outputs": [],
      "source": [
        "msft.Simple_Ret.min()"
      ]
    },
    {
      "cell_type": "code",
      "execution_count": null,
      "id": "4326269a",
      "metadata": {
        "id": "4326269a"
      },
      "outputs": [],
      "source": [
        "msft.Lev_Returns.min()"
      ]
    },
    {
      "cell_type": "markdown",
      "id": "185b3a07",
      "metadata": {
        "id": "185b3a07"
      },
      "source": [
        "__What happens when leverage greater than...?__"
      ]
    },
    {
      "cell_type": "code",
      "execution_count": null,
      "id": "11577981",
      "metadata": {
        "id": "11577981"
      },
      "outputs": [],
      "source": [
        "-1 / msft.Simple_Ret.min()"
      ]
    },
    {
      "cell_type": "code",
      "execution_count": null,
      "id": "86b0e909",
      "metadata": {
        "id": "86b0e909"
      },
      "outputs": [],
      "source": [
        ""
      ]
    },
    {
      "cell_type": "markdown",
      "id": "1afedf9d",
      "metadata": {
        "id": "1afedf9d"
      },
      "source": [
        "__Take Home:__\n",
        "1. With Leverage you can (theoretically) __lose more than the initial Margin__ (in practice: margin call / margin closeout before)\n",
        "2. Even for (highly) profitable instruments: __\"The more leverage the better\" does not hold__.\n",
        "3. It´s a two edged (__non-symmetrical__) sword: __Leverage amplifies losses more than it amplifies gains__."
      ]
    },
    {
      "cell_type": "code",
      "execution_count": null,
      "id": "1da06613",
      "metadata": {
        "id": "1da06613"
      },
      "outputs": [],
      "source": [
        ""
      ]
    },
    {
      "cell_type": "markdown",
      "id": "4774ec80",
      "metadata": {
        "id": "4774ec80"
      },
      "source": [
        "--------------------------------"
      ]
    },
    {
      "cell_type": "markdown",
      "id": "13b663ae",
      "metadata": {
        "id": "13b663ae"
      },
      "source": [
        "__Coding Challenge #7__"
      ]
    },
    {
      "cell_type": "markdown",
      "id": "f41b3d68",
      "metadata": {
        "id": "f41b3d68"
      },
      "source": [
        "1. Calculate levered returns for Bitcoin (leverage = 4). \n",
        "\n",
        "2. Visualize and compare with unlevered Investment.\n",
        "\n",
        "3. Some Traders trade Bitcoin with extremely high leverage (> 100). Do you think this is a good idea (assuming no additional/advanced Risk Management Tools)?"
      ]
    },
    {
      "cell_type": "markdown",
      "id": "fae2b53b",
      "metadata": {
        "id": "fae2b53b"
      },
      "source": [
        "---------------------------------------------"
      ]
    },
    {
      "cell_type": "code",
      "execution_count": null,
      "id": "1bf67bbb",
      "metadata": {
        "id": "1bf67bbb"
      },
      "outputs": [],
      "source": [
        ""
      ]
    },
    {
      "cell_type": "markdown",
      "id": "fb40585b",
      "metadata": {
        "id": "fb40585b"
      },
      "source": [
        "--------------------------------------"
      ]
    },
    {
      "cell_type": "markdown",
      "id": "c3192362",
      "metadata": {
        "id": "c3192362"
      },
      "source": [
        "## Coding Challenge Solutions"
      ]
    },
    {
      "cell_type": "markdown",
      "id": "b06419c4",
      "metadata": {
        "id": "b06419c4"
      },
      "source": [
        "__Coding Challenge #1__"
      ]
    },
    {
      "cell_type": "markdown",
      "id": "4b1f212a",
      "metadata": {
        "id": "4b1f212a"
      },
      "source": [
        "1. Load Stock Price Data for General Electric (GE) and another ticker symbol of your choice from 2015-01-02 until 2020-12-31.<br>\n",
        "Go to https://finance.yahoo.com/ and get the right ticker symbol. For instruments traded outside the US, you have to add a country/exchange suffix. <br>\n",
        "Check the suffix list here https://help.yahoo.com/kb/exchanges-data-providers-yahoo-finance-sln2310.html As an example, the suffix for the National Indian Stock Exchange is .NS -> Ticker Symbol for Reliance is Reliance.NS"
      ]
    },
    {
      "cell_type": "markdown",
      "id": "1d6f7538",
      "metadata": {
        "id": "1d6f7538"
      },
      "source": [
        "2. Select Close prices only and create a price chart for GE."
      ]
    },
    {
      "cell_type": "markdown",
      "id": "75aea2d3",
      "metadata": {
        "id": "75aea2d3"
      },
      "source": [
        "3. Normalize the stock prices for GE and the Ticker Symbol of your choice (Base Value: 1) and visualize! What´s the final normalized price for GE on 2020-12-30? "
      ]
    },
    {
      "cell_type": "code",
      "execution_count": null,
      "id": "57cbe430",
      "metadata": {
        "id": "57cbe430"
      },
      "outputs": [],
      "source": [
        "import pandas as pd\n",
        "import yfinance as yf\n",
        "import matplotlib.pyplot as plt\n",
        "pd.options.display.float_format = '{:.4f}'.format\n",
        "plt.style.use(\"seaborn\")"
      ]
    },
    {
      "cell_type": "code",
      "execution_count": null,
      "id": "38f1f6cf",
      "metadata": {
        "id": "38f1f6cf"
      },
      "outputs": [],
      "source": [
        "start = \"2015-01-02\"\n",
        "end = \"2020-12-31\"\n",
        "symbol = [\"GE\", \"Reliance.NS\"]"
      ]
    },
    {
      "cell_type": "code",
      "execution_count": null,
      "id": "67291e92",
      "metadata": {
        "id": "67291e92"
      },
      "outputs": [],
      "source": [
        "df = yf.download(symbol, start, end)\n",
        "df"
      ]
    },
    {
      "cell_type": "code",
      "execution_count": null,
      "id": "1ec06d5c",
      "metadata": {
        "id": "1ec06d5c"
      },
      "outputs": [],
      "source": [
        "close = df.Close.copy()\n",
        "close"
      ]
    },
    {
      "cell_type": "code",
      "execution_count": null,
      "id": "096f9d45",
      "metadata": {
        "id": "096f9d45"
      },
      "outputs": [],
      "source": [
        "close.GE.dropna().plot(figsize = (15, 8), fontsize = 13)\n",
        "plt.legend(fontsize = 13)\n",
        "plt.show()"
      ]
    },
    {
      "cell_type": "code",
      "execution_count": null,
      "id": "f6577349",
      "metadata": {
        "id": "f6577349"
      },
      "outputs": [],
      "source": [
        "norm = close.div(close.iloc[0]).mul(1)\n",
        "norm"
      ]
    },
    {
      "cell_type": "markdown",
      "id": "9fe04480",
      "metadata": {
        "id": "9fe04480"
      },
      "source": [
        "-> The final normalized Price is 0.4445."
      ]
    },
    {
      "cell_type": "code",
      "execution_count": null,
      "id": "fa18c3c7",
      "metadata": {
        "id": "fa18c3c7"
      },
      "outputs": [],
      "source": [
        "norm.dropna().plot(figsize = (15, 8), fontsize = 13)\n",
        "plt.legend(fontsize = 13)\n",
        "plt.show()"
      ]
    },
    {
      "cell_type": "code",
      "execution_count": null,
      "id": "ea32555c",
      "metadata": {
        "id": "ea32555c"
      },
      "outputs": [],
      "source": [
        ""
      ]
    },
    {
      "cell_type": "markdown",
      "id": "ea1e6bf3",
      "metadata": {
        "id": "ea1e6bf3"
      },
      "source": [
        "__Coding Challenge #2__"
      ]
    },
    {
      "cell_type": "markdown",
      "id": "2d6b7a33",
      "metadata": {
        "id": "2d6b7a33"
      },
      "source": [
        "1. Calculate daily returns for Bitcoin."
      ]
    },
    {
      "cell_type": "markdown",
      "id": "93ff73f5",
      "metadata": {
        "id": "93ff73f5"
      },
      "source": [
        "2. Calculate the arithmetic mean return and the standard deviation of returns for Bitcoin. "
      ]
    },
    {
      "cell_type": "markdown",
      "id": "a0e29617",
      "metadata": {
        "id": "a0e29617"
      },
      "source": [
        "3. Compare Bitcoin with Microsoft (mu = 0.00116, sigma = 0.01726). Does the rule \"Higher Risk -> Higher Reward\" hold?"
      ]
    },
    {
      "cell_type": "code",
      "execution_count": null,
      "id": "5b9c361d",
      "metadata": {
        "id": "5b9c361d"
      },
      "outputs": [],
      "source": [
        "import pandas as pd\n",
        "pd.options.display.float_format = '{:.4f}'.format"
      ]
    },
    {
      "cell_type": "code",
      "execution_count": null,
      "id": "aff3759c",
      "metadata": {
        "id": "aff3759c"
      },
      "outputs": [],
      "source": [
        "close = pd.read_csv(\"close.csv\", index_col = \"Date\", parse_dates = [\"Date\"])\n",
        "close"
      ]
    },
    {
      "cell_type": "code",
      "execution_count": null,
      "id": "23c3dd50",
      "metadata": {
        "id": "23c3dd50"
      },
      "outputs": [],
      "source": [
        "btc = close[\"BTC-USD\"].dropna().to_frame().copy()\n",
        "btc"
      ]
    },
    {
      "cell_type": "code",
      "execution_count": null,
      "id": "800fd370",
      "metadata": {
        "id": "800fd370"
      },
      "outputs": [],
      "source": [
        "btc[\"Returns\"] = btc.pct_change(periods = 1)\n",
        "btc"
      ]
    },
    {
      "cell_type": "code",
      "execution_count": null,
      "id": "701d3068",
      "metadata": {
        "id": "701d3068"
      },
      "outputs": [],
      "source": [
        "btc"
      ]
    },
    {
      "cell_type": "code",
      "execution_count": null,
      "id": "ee35ebc9",
      "metadata": {
        "id": "ee35ebc9"
      },
      "outputs": [],
      "source": [
        "mu = btc.Returns.mean() \n",
        "mu"
      ]
    },
    {
      "cell_type": "code",
      "execution_count": null,
      "id": "dd5209b2",
      "metadata": {
        "id": "dd5209b2"
      },
      "outputs": [],
      "source": [
        "sigma = btc.Returns.std()\n",
        "sigma"
      ]
    },
    {
      "cell_type": "code",
      "execution_count": null,
      "id": "7947659c",
      "metadata": {
        "id": "7947659c"
      },
      "outputs": [],
      "source": [
        "mu > 0.00116"
      ]
    },
    {
      "cell_type": "code",
      "execution_count": null,
      "id": "ade966ea",
      "metadata": {
        "id": "ade966ea"
      },
      "outputs": [],
      "source": [
        "sigma > 0.01726"
      ]
    },
    {
      "cell_type": "markdown",
      "id": "683a0128",
      "metadata": {
        "id": "683a0128"
      },
      "source": [
        "Does the rule \"Higher Risk -> Higher Reward\" hold? -> Yes"
      ]
    },
    {
      "cell_type": "code",
      "execution_count": null,
      "id": "1edf27d3",
      "metadata": {
        "id": "1edf27d3"
      },
      "outputs": [],
      "source": [
        ""
      ]
    },
    {
      "cell_type": "markdown",
      "id": "d8a50acd",
      "metadata": {
        "id": "d8a50acd"
      },
      "source": [
        "__Coding Challenge #3__"
      ]
    },
    {
      "cell_type": "markdown",
      "id": "dcdb31f1",
      "metadata": {
        "id": "dcdb31f1"
      },
      "source": [
        "1. Calculate Boeing´s Investment Multiple "
      ]
    },
    {
      "cell_type": "markdown",
      "id": "93e4a2cb",
      "metadata": {
        "id": "93e4a2cb"
      },
      "source": [
        "2. Calculate Boeing´s CAGR"
      ]
    },
    {
      "cell_type": "markdown",
      "id": "ef357599",
      "metadata": {
        "id": "ef357599"
      },
      "source": [
        "3. Calculate Boeing´s Geometric Mean Return"
      ]
    },
    {
      "cell_type": "markdown",
      "id": "b0ff4c9c",
      "metadata": {
        "id": "b0ff4c9c"
      },
      "source": [
        "4. Calculate Boeing´s Investment Multiple with compound daily returns"
      ]
    },
    {
      "cell_type": "code",
      "execution_count": null,
      "id": "d1e7285b",
      "metadata": {
        "id": "d1e7285b"
      },
      "outputs": [],
      "source": [
        "import pandas as pd\n",
        "pd.options.display.float_format = '{:.4f}'.format"
      ]
    },
    {
      "cell_type": "code",
      "execution_count": null,
      "id": "0797c111",
      "metadata": {
        "id": "0797c111"
      },
      "outputs": [],
      "source": [
        "close = pd.read_csv(\"close.csv\", index_col = \"Date\", parse_dates = [\"Date\"])\n",
        "close"
      ]
    },
    {
      "cell_type": "code",
      "execution_count": null,
      "id": "e46059bf",
      "metadata": {
        "id": "e46059bf"
      },
      "outputs": [],
      "source": [
        "ba = close[\"BA\"].dropna().to_frame().copy()\n",
        "ba"
      ]
    },
    {
      "cell_type": "code",
      "execution_count": null,
      "id": "e1312599",
      "metadata": {
        "id": "e1312599"
      },
      "outputs": [],
      "source": [
        "ba[\"Returns\"] = ba.pct_change(periods = 1)\n",
        "ba"
      ]
    },
    {
      "cell_type": "code",
      "execution_count": null,
      "id": "5144f768",
      "metadata": {
        "id": "5144f768"
      },
      "outputs": [],
      "source": [
        "multiple = ba.BA[-1] / ba.BA[0]\n",
        "multiple"
      ]
    },
    {
      "cell_type": "code",
      "execution_count": null,
      "id": "39c85b68",
      "metadata": {
        "scrolled": true,
        "id": "39c85b68"
      },
      "outputs": [],
      "source": [
        "cagr = (ba.BA[-1]/ba.BA[0])**(1/((ba.index[-1] - ba.index[0]).days / 365.25)) - 1 \n",
        "cagr"
      ]
    },
    {
      "cell_type": "code",
      "execution_count": null,
      "id": "82f281e4",
      "metadata": {
        "id": "82f281e4"
      },
      "outputs": [],
      "source": [
        "n = ba.Returns.count()\n",
        "n"
      ]
    },
    {
      "cell_type": "code",
      "execution_count": null,
      "id": "c38d4903",
      "metadata": {
        "id": "c38d4903"
      },
      "outputs": [],
      "source": [
        "geo_mean = (1 + ba.Returns).prod()**(1/n) - 1 \n",
        "geo_mean"
      ]
    },
    {
      "cell_type": "code",
      "execution_count": null,
      "id": "d2fff00d",
      "metadata": {
        "id": "d2fff00d"
      },
      "outputs": [],
      "source": [
        "multiple = ba.Returns.add(1).prod()\n",
        "multiple"
      ]
    },
    {
      "cell_type": "code",
      "execution_count": null,
      "id": "b1ed6514",
      "metadata": {
        "id": "b1ed6514"
      },
      "outputs": [],
      "source": [
        ""
      ]
    },
    {
      "cell_type": "markdown",
      "id": "eba81a76",
      "metadata": {
        "id": "eba81a76"
      },
      "source": [
        "__Coding Challenge #4__"
      ]
    },
    {
      "cell_type": "markdown",
      "id": "155c6561",
      "metadata": {
        "id": "155c6561"
      },
      "source": [
        "1. Calculate daily log returns for Boeing."
      ]
    },
    {
      "cell_type": "markdown",
      "id": "e1e98035",
      "metadata": {
        "id": "e1e98035"
      },
      "source": [
        "2. Use Boeing´s log returns to calculate \n",
        "- Investment Multiple\n",
        "- CAGR (assuming 252 trading days)\n",
        "- Normalized Prices (Base = 1)"
      ]
    },
    {
      "cell_type": "code",
      "execution_count": null,
      "id": "5130c978",
      "metadata": {
        "id": "5130c978"
      },
      "outputs": [],
      "source": [
        "import pandas as pd\n",
        "import numpy as np\n",
        "pd.options.display.float_format = '{:.4f}'.format\n",
        "import matplotlib.pyplot as plt\n",
        "plt.style.use(\"seaborn\")"
      ]
    },
    {
      "cell_type": "code",
      "execution_count": null,
      "id": "574b3b0f",
      "metadata": {
        "id": "574b3b0f"
      },
      "outputs": [],
      "source": [
        "close = pd.read_csv(\"close.csv\", index_col = \"Date\", parse_dates = [\"Date\"])\n",
        "close"
      ]
    },
    {
      "cell_type": "code",
      "execution_count": null,
      "id": "1ba90610",
      "metadata": {
        "id": "1ba90610"
      },
      "outputs": [],
      "source": [
        "ba = close[\"BA\"].dropna().to_frame().copy()\n",
        "ba"
      ]
    },
    {
      "cell_type": "code",
      "execution_count": null,
      "id": "3c1d7698",
      "metadata": {
        "id": "3c1d7698"
      },
      "outputs": [],
      "source": [
        "ba[\"log_ret\"] = np.log(ba / ba.shift())\n",
        "ba"
      ]
    },
    {
      "cell_type": "code",
      "execution_count": null,
      "id": "9072d2ae",
      "metadata": {
        "id": "9072d2ae"
      },
      "outputs": [],
      "source": [
        "multiple = np.exp(ba.log_ret.sum())\n",
        "multiple"
      ]
    },
    {
      "cell_type": "code",
      "execution_count": null,
      "id": "0f16a6a9",
      "metadata": {
        "id": "0f16a6a9"
      },
      "outputs": [],
      "source": [
        "cagr = np.exp(ba.log_ret.mean() * 252) - 1\n",
        "cagr"
      ]
    },
    {
      "cell_type": "code",
      "execution_count": null,
      "id": "9f67ae55",
      "metadata": {
        "id": "9f67ae55"
      },
      "outputs": [],
      "source": [
        "norm = ba.log_ret.cumsum().apply(np.exp)\n",
        "norm"
      ]
    },
    {
      "cell_type": "code",
      "execution_count": null,
      "id": "ad00421e",
      "metadata": {
        "id": "ad00421e"
      },
      "outputs": [],
      "source": [
        ""
      ]
    },
    {
      "cell_type": "markdown",
      "id": "0e8e3a5c",
      "metadata": {
        "id": "0e8e3a5c"
      },
      "source": [
        "__Coding Challenge #5__"
      ]
    },
    {
      "cell_type": "markdown",
      "id": "c8eab159",
      "metadata": {
        "id": "c8eab159"
      },
      "source": [
        "1. Calculate daily log returns for Boeing.\n",
        "\n",
        "2. Use Boeing´s daily log returns to calculate the annualized mean and annualized std (assume 252 trading days per year).\n",
        "\n",
        "3. Resample to monthly prices and compare the annualized std (monthly) with the annualized std (daily). Any differences?\n",
        "\n",
        "4. Keep working with monthly data and calculate/visualize the rolling 36 months mean return (annualized)."
      ]
    },
    {
      "cell_type": "code",
      "execution_count": null,
      "id": "d0ca046f",
      "metadata": {
        "id": "d0ca046f"
      },
      "outputs": [],
      "source": [
        "import pandas as pd\n",
        "import numpy as np\n",
        "pd.options.display.float_format = '{:.4f}'.format\n",
        "import matplotlib.pyplot as plt\n",
        "plt.style.use(\"seaborn\")"
      ]
    },
    {
      "cell_type": "code",
      "execution_count": null,
      "id": "a9e0fcaa",
      "metadata": {
        "id": "a9e0fcaa"
      },
      "outputs": [],
      "source": [
        "close = pd.read_csv(\"close.csv\", index_col = \"Date\", parse_dates = [\"Date\"])\n",
        "close"
      ]
    },
    {
      "cell_type": "code",
      "execution_count": null,
      "id": "3eea7931",
      "metadata": {
        "id": "3eea7931"
      },
      "outputs": [],
      "source": [
        "ba = close[\"BA\"].dropna().to_frame().copy()\n",
        "ba"
      ]
    },
    {
      "cell_type": "code",
      "execution_count": null,
      "id": "e5f2743c",
      "metadata": {
        "id": "e5f2743c"
      },
      "outputs": [],
      "source": [
        "ba[\"log_ret\"] = np.log(ba / ba.shift())\n",
        "ba"
      ]
    },
    {
      "cell_type": "code",
      "execution_count": null,
      "id": "07efd8c6",
      "metadata": {
        "id": "07efd8c6"
      },
      "outputs": [],
      "source": [
        "ann_mu = ba.log_ret.mean() * 252 \n",
        "ann_mu"
      ]
    },
    {
      "cell_type": "code",
      "execution_count": null,
      "id": "2f4e4ead",
      "metadata": {
        "id": "2f4e4ead"
      },
      "outputs": [],
      "source": [
        "ann_std = ba.log_ret.std() * np.sqrt(252) \n",
        "ann_std"
      ]
    },
    {
      "cell_type": "code",
      "execution_count": null,
      "id": "6d355182",
      "metadata": {
        "id": "6d355182"
      },
      "outputs": [],
      "source": [
        "monthly = ba.BA.resample(\"M\").last().to_frame()\n",
        "monthly"
      ]
    },
    {
      "cell_type": "code",
      "execution_count": null,
      "id": "1154e261",
      "metadata": {
        "id": "1154e261"
      },
      "outputs": [],
      "source": [
        "monthly[\"Returns\"] = np.log(monthly / monthly.shift())\n",
        "monthly"
      ]
    },
    {
      "cell_type": "code",
      "execution_count": null,
      "id": "4f6807e6",
      "metadata": {
        "id": "4f6807e6"
      },
      "outputs": [],
      "source": [
        "ann_std = monthly.Returns.std() * np.sqrt(12) \n",
        "ann_std"
      ]
    },
    {
      "cell_type": "markdown",
      "id": "507ae019",
      "metadata": {
        "id": "507ae019"
      },
      "source": [
        "-> Risk (monthly) slighly lower than Risk (daily) "
      ]
    },
    {
      "cell_type": "code",
      "execution_count": null,
      "id": "4bec560c",
      "metadata": {
        "id": "4bec560c"
      },
      "outputs": [],
      "source": [
        "window = 36"
      ]
    },
    {
      "cell_type": "code",
      "execution_count": null,
      "id": "347fc6f6",
      "metadata": {
        "id": "347fc6f6"
      },
      "outputs": [],
      "source": [
        "roll_mean = monthly.Returns.rolling(window = window).mean() * 12\n",
        "roll_mean"
      ]
    },
    {
      "cell_type": "code",
      "execution_count": null,
      "id": "c851403f",
      "metadata": {
        "id": "c851403f"
      },
      "outputs": [],
      "source": [
        "roll_mean.plot(figsize = (12, 8))\n",
        "plt.show()"
      ]
    },
    {
      "cell_type": "code",
      "execution_count": null,
      "id": "e32added",
      "metadata": {
        "id": "e32added"
      },
      "outputs": [],
      "source": [
        ""
      ]
    },
    {
      "cell_type": "markdown",
      "id": "fb4c6361",
      "metadata": {
        "id": "fb4c6361"
      },
      "source": [
        "__Coding Challenge #6__"
      ]
    },
    {
      "cell_type": "markdown",
      "id": "7a86aeb2",
      "metadata": {
        "id": "7a86aeb2"
      },
      "source": [
        "1. Calculate daily log returns for Boeing.\n",
        "\n",
        "2. Calculate the annualized mean and annualized std (assume 252 trading days per year) for a short position in Boeing (ignore Trading and Borrowing Costs)."
      ]
    },
    {
      "cell_type": "code",
      "execution_count": null,
      "id": "5ea76e5e",
      "metadata": {
        "id": "5ea76e5e"
      },
      "outputs": [],
      "source": [
        "import pandas as pd\n",
        "import numpy as np\n",
        "pd.options.display.float_format = '{:.4f}'.format\n",
        "import matplotlib.pyplot as plt\n",
        "plt.style.use(\"seaborn\")"
      ]
    },
    {
      "cell_type": "code",
      "execution_count": null,
      "id": "9285b7fe",
      "metadata": {
        "id": "9285b7fe"
      },
      "outputs": [],
      "source": [
        "close = pd.read_csv(\"close.csv\", index_col = \"Date\", parse_dates = [\"Date\"])\n",
        "close"
      ]
    },
    {
      "cell_type": "code",
      "execution_count": null,
      "id": "a4db4245",
      "metadata": {
        "id": "a4db4245"
      },
      "outputs": [],
      "source": [
        "ba = close[\"BA\"].dropna().to_frame().copy()\n",
        "ba"
      ]
    },
    {
      "cell_type": "code",
      "execution_count": null,
      "id": "3831f24b",
      "metadata": {
        "id": "3831f24b"
      },
      "outputs": [],
      "source": [
        "ba[\"log_ret\"] = np.log(ba / ba.shift())\n",
        "ba"
      ]
    },
    {
      "cell_type": "code",
      "execution_count": null,
      "id": "2e14ca4c",
      "metadata": {
        "id": "2e14ca4c"
      },
      "outputs": [],
      "source": [
        "ba[\"short\"] = ba.log_ret * (-1)\n",
        "ba"
      ]
    },
    {
      "cell_type": "code",
      "execution_count": null,
      "id": "7a66057e",
      "metadata": {
        "id": "7a66057e"
      },
      "outputs": [],
      "source": [
        "ann_mean = ba.short.mean() * 252 # equal to ann_mean of long position * (-1)\n",
        "ann_mean"
      ]
    },
    {
      "cell_type": "code",
      "execution_count": null,
      "id": "55207813",
      "metadata": {
        "id": "55207813"
      },
      "outputs": [],
      "source": [
        "ann_std = ba.short.std() * np.sqrt(252) # same as ann_std of long position\n",
        "ann_std"
      ]
    },
    {
      "cell_type": "code",
      "execution_count": null,
      "id": "bc03ffda",
      "metadata": {
        "id": "bc03ffda"
      },
      "outputs": [],
      "source": [
        ""
      ]
    },
    {
      "cell_type": "markdown",
      "id": "7f3f76ce",
      "metadata": {
        "id": "7f3f76ce"
      },
      "source": [
        "__Coding Challenge #7__"
      ]
    },
    {
      "cell_type": "markdown",
      "id": "1b7e5e6b",
      "metadata": {
        "id": "1b7e5e6b"
      },
      "source": [
        "1. Calculate levered returns for Bitcoin (leverage = 4). \n",
        "\n",
        "2. Visualize and compare with unlevered Investment.\n",
        "\n",
        "3. Some Traders trade Bitcoin with extremely high leverage (> 100). Do you think this is a good idea (assuming no additional/advanced Risk Management Tools)?"
      ]
    },
    {
      "cell_type": "code",
      "execution_count": null,
      "id": "31c5819c",
      "metadata": {
        "id": "31c5819c"
      },
      "outputs": [],
      "source": [
        "import pandas as pd\n",
        "import numpy as np\n",
        "pd.options.display.float_format = '{:.4f}'.format\n",
        "import matplotlib.pyplot as plt\n",
        "plt.style.use(\"seaborn\")"
      ]
    },
    {
      "cell_type": "code",
      "execution_count": null,
      "id": "8d235910",
      "metadata": {
        "id": "8d235910"
      },
      "outputs": [],
      "source": [
        "close = pd.read_csv(\"close.csv\", index_col = \"Date\", parse_dates = [\"Date\"])\n",
        "close"
      ]
    },
    {
      "cell_type": "code",
      "execution_count": null,
      "id": "4b2c3993",
      "metadata": {
        "id": "4b2c3993"
      },
      "outputs": [],
      "source": [
        "btc = close[\"BTC-USD\"].dropna().to_frame().copy()\n",
        "btc"
      ]
    },
    {
      "cell_type": "code",
      "execution_count": null,
      "id": "d7bc25d3",
      "metadata": {
        "id": "d7bc25d3"
      },
      "outputs": [],
      "source": [
        "btc[\"Returns\"] = btc.pct_change(periods = 1)\n",
        "btc"
      ]
    },
    {
      "cell_type": "code",
      "execution_count": null,
      "id": "89e69f83",
      "metadata": {
        "id": "89e69f83"
      },
      "outputs": [],
      "source": [
        "leverage = 4"
      ]
    },
    {
      "cell_type": "code",
      "execution_count": null,
      "id": "0e685dc4",
      "metadata": {
        "id": "0e685dc4"
      },
      "outputs": [],
      "source": [
        "btc[\"Lev_Returns\"] = btc.Returns.mul(leverage) # levered simple returns\n",
        "btc"
      ]
    },
    {
      "cell_type": "code",
      "execution_count": null,
      "id": "89c919de",
      "metadata": {
        "id": "89c919de"
      },
      "outputs": [],
      "source": [
        "btc[\"Lev_Returns\"] = np.where(btc[\"Lev_Returns\"] < -1, -1, btc[\"Lev_Returns\"])"
      ]
    },
    {
      "cell_type": "code",
      "execution_count": null,
      "id": "891b1f9f",
      "metadata": {
        "id": "891b1f9f"
      },
      "outputs": [],
      "source": [
        "btc[[\"Returns\", \"Lev_Returns\"]].add(1).cumprod().plot(figsize = (15, 8), fontsize = 13)\n",
        "plt.legend(fontsize = 13)\n",
        "plt.show()"
      ]
    },
    {
      "cell_type": "markdown",
      "id": "af654378",
      "metadata": {
        "id": "af654378"
      },
      "source": [
        "-> Trading Bitcoin with (high) leverage requires advanced risk monitoring/management. Otherwise, a complete loss is very likely (sooner or later...)."
      ]
    },
    {
      "cell_type": "code",
      "execution_count": null,
      "id": "3ae884cb",
      "metadata": {
        "id": "3ae884cb"
      },
      "outputs": [],
      "source": [
        ""
      ]
    }
  ],
  "metadata": {
    "kernelspec": {
      "display_name": "Python 3",
      "language": "python",
      "name": "python3"
    },
    "language_info": {
      "codemirror_mode": {
        "name": "ipython",
        "version": 3
      },
      "file_extension": ".py",
      "mimetype": "text/x-python",
      "name": "python",
      "nbconvert_exporter": "python",
      "pygments_lexer": "ipython3",
      "version": "3.8.5"
    },
    "colab": {
      "name": "NB_03_Financial_Data_Analysis.ipynb",
      "provenance": [],
      "collapsed_sections": [
        "8fb998d5",
        "433adcfd",
        "36bbf662",
        "be1330ba",
        "e9e2c678",
        "e1cf612b",
        "4d1c1d40",
        "b31cacf8",
        "cd626d18",
        "96b19065",
        "d91b4326",
        "652d274f",
        "b31a152d",
        "536ab4f2",
        "a1efca54",
        "1b1d9e1d",
        "79664c0c",
        "8346ef58",
        "8db012e2",
        "5d5485db",
        "7e90f89c",
        "d10aa0f1",
        "e71f16b9",
        "63baa682",
        "c3192362"
      ],
      "toc_visible": true,
      "include_colab_link": true
    }
  },
  "nbformat": 4,
  "nbformat_minor": 5
}